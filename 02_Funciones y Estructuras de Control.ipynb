{
 "cells": [
  {
   "cell_type": "markdown",
   "metadata": {},
   "source": [
    "### Principios de Python"
   ]
  },
  {
   "cell_type": "markdown",
   "metadata": {},
   "source": [
    "### La Función *input()*"
   ]
  },
  {
   "cell_type": "markdown",
   "metadata": {},
   "source": [
    "La función de *input()* espera a que el usuario escriba un texto en el teclado y presione en ENTER."
   ]
  },
  {
   "cell_type": "code",
   "execution_count": null,
   "metadata": {},
   "outputs": [],
   "source": [
    "a = input('¿Cúal es el precio del dólar actual?')\n"
   ]
  },
  {
   "cell_type": "code",
   "execution_count": null,
   "metadata": {},
   "outputs": [],
   "source": [
    "type(a)"
   ]
  },
  {
   "cell_type": "markdown",
   "metadata": {},
   "source": [
    "### Python como calculadora\n"
   ]
  },
  {
   "cell_type": "markdown",
   "metadata": {},
   "source": [
    "\n",
    "¿ Si tengo 2 MM de pesos por cuantos dólares los puedo canjear?\n",
    "\n",
    "Recuerde: [input('¿Cúal es el precio del dólar actual?')]. Ahora, lo que nesesitamos es entrar un número que sea e tipo de cambio. Comvertiremos el string en tipo númerico para despues hacer la conversion a dolares."
   ]
  },
  {
   "cell_type": "code",
   "execution_count": null,
   "metadata": {},
   "outputs": [],
   "source": [
    "TipoCambio = float(input('¿Cúal es el tipo de cambio del dólar-peso actual? '))\n"
   ]
  },
  {
   "cell_type": "code",
   "execution_count": null,
   "metadata": {},
   "outputs": [],
   "source": [
    "Pesos = float(input('¿Cuantos pesos va a cambiar?'))\n"
   ]
  },
  {
   "cell_type": "code",
   "execution_count": null,
   "metadata": {},
   "outputs": [],
   "source": [
    "Dolares = Pesos/TipoCambio\n",
    "Dolares"
   ]
  },
  {
   "cell_type": "code",
   "execution_count": null,
   "metadata": {},
   "outputs": [],
   "source": [
    "round(Dolares, 2)\n"
   ]
  },
  {
   "cell_type": "markdown",
   "metadata": {},
   "source": [
    "### Estructuras de Control"
   ]
  },
  {
   "cell_type": "markdown",
   "metadata": {},
   "source": [
    "### Que es una sentencia _If_ ?"
   ]
  },
  {
   "cell_type": "markdown",
   "metadata": {},
   "source": [
    "Una sentencia if prueba una condición y luego responde a esa condición. Si la condición es verdadera, entonces cualquier acción que se enumere a continuación se lleva a cabo. Puede probar múltiples condiciones al mismo tiempo y responder adecuadamente a cada condición."
   ]
  },
  {
   "cell_type": "code",
   "execution_count": null,
   "metadata": {},
   "outputs": [],
   "source": [
    "# Un lsita de postres que te gustan\n",
    "postres = ['Helado', 'chocolate', 'galletas', 'Pastel de pollo']\n",
    "postre_favorito = 'Helado'\n",
    "\n",
    "# Implimir mis postres,pero dejando explicito mi postre favorito\n",
    "for postre in postres:\n",
    "    if postre == postre_favorito:\n",
    "        print(\"%s Es mi postre Favorito\" % postre.title())\n",
    "    else:\n",
    "        print(\"A mi me gusta  %s.\" % postre)"
   ]
  },
  {
   "cell_type": "markdown",
   "metadata": {},
   "source": [
    "### ¿Qué pasa en este programa?\n",
    "\n",
    "* El programa comienza con una lista de postres, y un postre se identifica como favorito.\n",
    "* El bucle **for** recorre todos los postres.\n",
    "* Dentro del bucle for, se prueba cada elemento de la lista.\n",
    "* Si el valor actual de postre es igual al valor de *postre_favorito*, se imprime un mensaje que dice que este es mi favorito.\n",
    "* Si el valor actual de postre no es igual al valor de *postre_favorito*, se imprime un mensaje que simplemente me gusta el postre.\n",
    "* Puede probar tantas condiciones como desee en una sentencia if, como verá en un momento."
   ]
  },
  {
   "cell_type": "markdown",
   "metadata": {},
   "source": [
    "#### Test Logicos"
   ]
  },
  {
   "cell_type": "markdown",
   "metadata": {},
   "source": [
    "En los siguientes ejemplos, mostramos ejemplos de comparación, bucle if-else, bucle for y bucle while.\n",
    "\n",
    "Comparación\n",
    "La sintaxis de Python para comparación es la misma que nuestra convención escrita a mano:\n",
    "\n",
    "1. Más grande (o igual): > (>=)\n",
    "2. Más pequeño (o igual): < (<=)\n",
    "3. Igual a: == (Notar aquí que hay signos dobles)\n",
    "4. No es igual a:! =\n",
    "5. Negación:  not"
   ]
  },
  {
   "cell_type": "code",
   "execution_count": null,
   "metadata": {},
   "outputs": [],
   "source": [
    "5 != 5\n"
   ]
  },
  {
   "cell_type": "code",
   "execution_count": null,
   "metadata": {},
   "outputs": [],
   "source": [
    "3 == 5\n"
   ]
  },
  {
   "cell_type": "code",
   "execution_count": null,
   "metadata": {},
   "outputs": [],
   "source": [
    "'Rafa' == 'Rafa'\n"
   ]
  },
  {
   "cell_type": "code",
   "execution_count": null,
   "metadata": {},
   "outputs": [],
   "source": [
    "'rafa'.upper() == 'Rafa'.upper()\n"
   ]
  },
  {
   "cell_type": "code",
   "execution_count": null,
   "metadata": {},
   "outputs": [],
   "source": [
    "'Rafa'.lower() == 'rafa'.lower()\n"
   ]
  },
  {
   "cell_type": "code",
   "execution_count": null,
   "metadata": {},
   "outputs": [],
   "source": [
    "'5' == 5\n"
   ]
  },
  {
   "cell_type": "code",
   "execution_count": null,
   "metadata": {},
   "outputs": [],
   "source": [
    "'5' == str(5)\n"
   ]
  },
  {
   "cell_type": "code",
   "execution_count": null,
   "metadata": {},
   "outputs": [],
   "source": [
    "a = 5 == 5\n",
    "b = not 5 == 5\n",
    "\n",
    "print( a , b )"
   ]
  },
  {
   "cell_type": "markdown",
   "metadata": {},
   "source": [
    "#### Desiguldades"
   ]
  },
  {
   "cell_type": "markdown",
   "metadata": {},
   "source": [
    "Dos elementos son desiguales si no tienen el mismo valor. En Python, probamos la desigualdad usando el signo de exclamación y uno es el signo igual.\n",
    "\n",
    "A veces quieres probar la igualdad y si eso falla, asume la desigualdad. A veces tiene más sentido probar directamente la desigualdad."
   ]
  },
  {
   "cell_type": "code",
   "execution_count": null,
   "metadata": {},
   "outputs": [],
   "source": [
    "3 != 5\n"
   ]
  },
  {
   "cell_type": "code",
   "execution_count": null,
   "metadata": {},
   "outputs": [],
   "source": [
    "5 != 5\n"
   ]
  },
  {
   "cell_type": "code",
   "execution_count": null,
   "metadata": {},
   "outputs": [],
   "source": [
    "'rafa' != 'Rafa'\n"
   ]
  },
  {
   "cell_type": "code",
   "execution_count": null,
   "metadata": {},
   "outputs": [],
   "source": [
    "5 > 3\n"
   ]
  },
  {
   "cell_type": "code",
   "execution_count": null,
   "metadata": {},
   "outputs": [],
   "source": [
    "3 >= 3\n"
   ]
  },
  {
   "cell_type": "code",
   "execution_count": null,
   "metadata": {},
   "outputs": [],
   "source": [
    "3 < 5\n"
   ]
  },
  {
   "cell_type": "code",
   "execution_count": null,
   "metadata": {},
   "outputs": [],
   "source": [
    "vocales = ('a', 'e', 'i', 'o', 'u')\n",
    "'a' in vocales"
   ]
  },
  {
   "cell_type": "markdown",
   "metadata": {},
   "source": [
    "### La Cadena  if-elif...else \n"
   ]
  },
  {
   "cell_type": "markdown",
   "metadata": {},
   "source": [
    "La prueba más simple tiene una única sentencia if y una única sentencia para ejecutar si la condición es TRUE."
   ]
  },
  {
   "cell_type": "code",
   "execution_count": null,
   "metadata": {},
   "outputs": [],
   "source": [
    "perros = ['Cusca', 'Matias', 'Camilo', 'Trosky']\n",
    "\n",
    "if len(perros) > 3:\n",
    "    print(\"Wow, que monton de perros!\")"
   ]
  },
  {
   "cell_type": "code",
   "execution_count": null,
   "metadata": {},
   "outputs": [],
   "source": [
    "perros = ['Gusca', 'Matias']\n",
    "\n",
    "if len(perros) > 3:\n",
    "    print(\"Wow, que monton de perros!\")"
   ]
  },
  {
   "cell_type": "markdown",
   "metadata": {},
   "source": [
    "Tenga en cuenta que no hay errores. La condición len (perros)> 3 se evalúa como Falso, y el programa pasa a cualquier línea después del bloque if."
   ]
  },
  {
   "cell_type": "markdown",
   "metadata": {},
   "source": [
    "#### Sentencia if-else \n"
   ]
  },
  {
   "cell_type": "code",
   "execution_count": null,
   "metadata": {},
   "outputs": [],
   "source": [
    "perros = ['Cusca', 'Matias', 'Lucas', 'Trosky']\n",
    "\n",
    "\n",
    "if len(perros) > 3:\n",
    "    print(\"Wow, que monton de perros!\")\n",
    "else:\n",
    "    print(\"Okay, esto es un número razonable de perritos\")"
   ]
  },
  {
   "cell_type": "markdown",
   "metadata": {},
   "source": [
    "#### Sentencia If-Elif-else"
   ]
  },
  {
   "cell_type": "code",
   "execution_count": null,
   "metadata": {},
   "outputs": [],
   "source": [
    "perros = ['Cusca', 'Matias', 'Lucas', 'Trosky', 'Mordelón']\n",
    "\n",
    "if len(perros) >= 5:\n",
    "    print(\"Dios mio!! tendremos que crear un hostal para perros\")\n",
    "elif len(perros) >= 3:\n",
    "    print(\"Wow, que monton de perros!\")\n",
    "else:\n",
    "    print(\"Este es un número razonable de perros.\")"
   ]
  },
  {
   "cell_type": "markdown",
   "metadata": {},
   "source": [
    "### Que es un loop While ?\n"
   ]
  },
  {
   "cell_type": "markdown",
   "metadata": {},
   "source": [
    "### Sintaxis General"
   ]
  },
  {
   "cell_type": "code",
   "execution_count": null,
   "metadata": {},
   "outputs": [],
   "source": [
    "# Definir la condicion inicial\n",
    "game_active = True\n",
    "\n",
    "# Crear while lop\n",
    "while game_active:\n",
    "    # Correr el Juego.\n",
    "    # En algun punto, El juego termina y game_active quedara en False.\n",
    "    #   Caundo esto suceda, el loop parara.\n"
   ]
  },
  {
   "cell_type": "markdown",
   "metadata": {},
   "source": [
    "¿ cuantos años nesesitamos para obtener un dinero determindado (objetivo) a una tasa de interés?"
   ]
  },
  {
   "cell_type": "code",
   "execution_count": null,
   "metadata": {},
   "outputs": [],
   "source": [
    "Capital = 1000000\n",
    "objetivo  = 3000000\n",
    "interes = 0.1\n",
    "anhos    = 0\n",
    "interes_acumulado = 0\n",
    "\n",
    "while Capital <= objetivo:\n",
    "    anhos = anhos + 1\n",
    "    InteresesGanados = Capital*interes\n",
    "    interes_acumulado += InteresesGanados\n",
    "    Capital = Capital + InteresesGanados\n",
    "\n",
    "print ('Nesesitamos un periodo de %s años para obtener %s \"\\\n",
    "       \"\\nAdemás, Acumulamos %.2f de intereses.' % (anhos, objetivo , interes_acumulado ))"
   ]
  },
  {
   "cell_type": "code",
   "execution_count": null,
   "metadata": {},
   "outputs": [],
   "source": [
    "# Comienze con una lista vacia. \n",
    "nombres = []\n",
    "\n",
    "# definir nombres_nuevos \n",
    "nombres_nuevos = ''\n",
    "\n",
    "# Comenzar un loop que parara cunado se introduzca \"quitar!\n",
    "while nombres_nuevos != 'quitar':\n",
    "    # Preguntar por un nombre de usuario.\n",
    "    nombres_nuevos = input(\"Por favor digame algo, o entre 'quitar': \")\n",
    "\n",
    "    # Adicionar un nuevo nombre a la lista.\n",
    "    if nombres_nuevos != 'quitar':\n",
    "        nombres.append(nombres_nuevos)\n",
    "\n",
    "# Mostrar lo nombres que se adicionaron a la lista.\n",
    "print(nombres)"
   ]
  },
  {
   "cell_type": "markdown",
   "metadata": {},
   "source": [
    "## For"
   ]
  },
  {
   "cell_type": "markdown",
   "metadata": {},
   "source": [
    "Los for son parecidos a los if, pero tienen la sintaxis `for variable in lista:`.\n",
    "\n",
    "En este caso, variable es la variable que va a ir cambiando, y lista es una lista de python (o un iterable que es parecido)"
   ]
  },
  {
   "cell_type": "code",
   "execution_count": null,
   "metadata": {},
   "outputs": [],
   "source": [
    "print(\"- Impresion de los elementos de la lista:\")\n",
    "\n",
    "# Imprimir los strings de mi_lista por separado\n",
    "mi_lista=[\"img\",\"python\",\"numpy\"]\n",
    "for s in mi_lista:\n",
    "    print(s) # este print va con indentación\n",
    "    \n"
   ]
  },
  {
   "cell_type": "code",
   "execution_count": null,
   "metadata": {},
   "outputs": [],
   "source": [
    "#calcular la suma de los números e imprimirla\n",
    "suma=0\n",
    "mis_numeros=[5,8,17,12]\n",
    "for numero in mis_numeros:\n",
    "    suma=suma+numero\n",
    "print(\"- La suma de los números es:\")\n",
    "print(suma)"
   ]
  },
  {
   "cell_type": "code",
   "execution_count": null,
   "metadata": {},
   "outputs": [],
   "source": [
    "#un for de 0 a 3, para imprimir esos valores\n",
    "print(\"Un for de 0 a 3\")\n",
    "for i in range(4):\n",
    "    print(i)\n",
    "    \n",
    "#En Python los índices comienzan en 0, y por eso los rangos también.\n",
    "    \n",
    "\n",
    "#También se puede comenzar el rango en otro valor en lugar de 0\n",
    "print(\"- Un for de 2 a 5:\")\n",
    "for j in range(2,6):\n",
    "    print(j)"
   ]
  },
  {
   "cell_type": "markdown",
   "metadata": {},
   "source": [
    "### Funciones"
   ]
  },
  {
   "cell_type": "markdown",
   "metadata": {},
   "source": [
    "Las funciones son un conjunto de acciones que agrupamos y le damos un nombre. Ya ha utilizado varias funciones del lenguaje Python principal, como string.title () y list.sort(). Podemos definir nuestras propias funciones, lo que nos permite \"enseñar\" el nuevo comportamiento de Python."
   ]
  },
  {
   "cell_type": "markdown",
   "metadata": {},
   "source": [
    "#### Sintaxis General"
   ]
  },
  {
   "cell_type": "code",
   "execution_count": null,
   "metadata": {},
   "outputs": [],
   "source": [
    "# Estructura genarl de una funciomn\n",
    "def nombre_funcion(argument_1, argument_2):\n",
    "    #Lo que quieres que realize la funcion,\n",
    "    #  Usando argument_1 and argument_2\n",
    "\n",
    "# Llamado a la funcion.\n",
    "nombre_funcion(value_1, value_2)"
   ]
  },
  {
   "cell_type": "markdown",
   "metadata": {},
   "source": [
    "Este código no se ejecutará, pero muestra cómo se utilizan las funciones en general.\n",
    "\n",
    "Definiendo una función\n",
    "Defina la palabra clave def, que le indica a Python que está a punto de definir una función.\n",
    "Dale un nombre a tu función. Un nombre de variable le dice qué tipo de valor contiene la variable; un nombre de función debe decirle lo que hace la función.\n",
    "\n",
    "1. Asigne nombres para cada valor que la función necesita para hacer su trabajo.\n",
    "1. Estos son básicamente nombres de variables, pero solo se usan en la función.\n",
    "1. Pueden ser nombres diferentes a los que usa en el resto de su programa.\n",
    "1. Estos se llaman los argumentos de la función.\n",
    "1. Asegúrese de que la línea de definición de función termina con dos puntos.\n",
    "1. Dentro de la función, escriba el código que necesite para hacer que la función haga su trabajo.\n",
    "\n",
    "Usando tu funcion\n",
    "\n",
    "Para llamar a su función, escriba su nombre seguido de paréntesis.\n",
    "Dentro de los paréntesis, indique los valores con los que desea que funcione la función.\n",
    "Estas pueden ser variables como current_name y current_age, o pueden ser valores reales como 'Rafa' y 5."
   ]
  },
  {
   "cell_type": "code",
   "execution_count": null,
   "metadata": {},
   "outputs": [],
   "source": [
    "print(\"¡Estás haciendo un buen trabajo, Vanesa!\")\n",
    "print(\"Muchas gracias por sus esfuerzos en este curso.\")\n",
    "\n",
    "print(\"\\n¡Estás haciendo un buen trabajo, Juliana!\")\n",
    "print(\"Muchas gracias por sus esfuerzos en este curso.\")\n",
    "\n",
    "print(\"\\n¡Estás haciendo un buen trabajo, Rebeca!\")\n",
    "print(\"Muchas gracias por sus esfuerzos en este curso.\")"
   ]
  },
  {
   "cell_type": "markdown",
   "metadata": {},
   "source": [
    "Las funciones toman el código repetido, lo colocan en un lugar y luego lo llaman cuando quiere usarlo. Así es como se ve el mismo programa con una función."
   ]
  },
  {
   "cell_type": "code",
   "execution_count": null,
   "metadata": {},
   "outputs": [],
   "source": [
    "\n",
    "def gracias(name):\n",
    "    # This function prints a two-line personalized thank you message.\n",
    "    print(\"\\n¡Estás haciendo un buen trabajo, %s!\" % name)\n",
    "    print(\"Muchas gracias por sus esfuerzos en este curso.\")\n",
    "    \n",
    "gracias('Vanesa')\n",
    "gracias('Juliana')\n",
    "gracias('Rebeca')"
   ]
  },
  {
   "cell_type": "markdown",
   "metadata": {},
   "source": [
    "En nuestro código original, cada par de declaraciones impresas se ejecutó tres veces, y la única diferencia era el nombre de la persona a la que se agradecía. Cuando ve una repetición como esta, generalmente puede hacer que su programa sea más eficiente definiendo una función.\n",
    "\n",
    "La palabra clave **def** le dice a Python que estamos a punto de definir una función. Le damos un nombre a nuestra función, **gracias**() en este caso. El nombre de una variable debe decirnos qué tipo de información contiene; El nombre de una función debe decirnos qué hace la variable. Luego ponemos paréntesis. Dentro de estos paréntesis, creamos nombres de variables para cualquier variable que la función deba otorgarse para hacer su trabajo. En este caso, la función necesitará un nombre para incluir en el mensaje de agradecimiento. El nombre de la variable mantendrá el valor que se pasa a la función **gracias**().\n",
    "\n",
    "Para usar una función, le damos el nombre de la función y luego ponemos los valores que la función necesita para hacer su trabajo. En este caso, llamamos a la función tres veces, cada vez que le pasemos un nombre diferente."
   ]
  },
  {
   "cell_type": "markdown",
   "metadata": {},
   "source": [
    "**Mini Ejercicio**:  Realice lo anterior pero usando un loop for y una lista como se ha visto en ejemplos anteriores"
   ]
  },
  {
   "cell_type": "code",
   "execution_count": null,
   "metadata": {},
   "outputs": [],
   "source": [
    "# Su respuesta aqui"
   ]
  },
  {
   "cell_type": "markdown",
   "metadata": {},
   "source": [
    "Funciones que llaman a funciones!"
   ]
  },
  {
   "cell_type": "code",
   "execution_count": null,
   "metadata": {},
   "outputs": [],
   "source": [
    "def firstfunc(username):\n",
    "    print (\"Hey\", username + '!')\n",
    "    print (username + ',' ,\"Que haces?\")\n",
    "    \n",
    "def secondfunc():\n",
    "    name = input(\"Por favor introduzca su nombre : \")\n",
    "    firstfunc(name)"
   ]
  },
  {
   "cell_type": "code",
   "execution_count": null,
   "metadata": {},
   "outputs": [],
   "source": [
    "secondfunc()"
   ]
  },
  {
   "cell_type": "markdown",
   "metadata": {},
   "source": [
    "#### Ventajas de usar Funciones\n"
   ]
  },
  {
   "cell_type": "markdown",
   "metadata": {},
   "source": [
    "Es posible que pueda ver algunas ventajas de usar funciones, a través de este ejemplo:\n",
    "\n",
    "Escribimos un conjunto de instrucciones una vez. En este sencillo ejemplo, ahorramos algo de trabajo y ahorramos aún más trabajo en programas más grandes.\n",
    "\n",
    "Cuando nuestra función funciona, ya no tenemos que preocuparnos por ese código. Cada vez que repite el código en su programa, presenta una oportunidad para cometer un error. Escribir una función significa que hay un lugar para corregir errores, y cuando esos errores se solucionan, podemos estar seguros de que esta función continuará funcionando correctamente.\n",
    "\n",
    "Podemos modificar el comportamiento de nuestra función, y ese cambio tiene efecto cada vez que se llama a la función. Esto es mucho mejor que decidir que necesitamos un nuevo comportamiento y luego tener que cambiar el código en muchos lugares diferentes de nuestro programa.\n",
    "\n",
    "Para un ejemplo rápido, digamos que decidimos que nuestra salida impresa se vería mejor con algún tipo de lista con viñetas. Sin funciones, tendríamos que cambiar cada declaración de impresión. Con una función, cambiamos solo la declaración de impresión en la función."
   ]
  }
 ],
 "metadata": {
  "kernelspec": {
   "display_name": "Python 3",
   "language": "python",
   "name": "python3"
  },
  "language_info": {
   "codemirror_mode": {
    "name": "ipython",
    "version": 3
   },
   "file_extension": ".py",
   "mimetype": "text/x-python",
   "name": "python",
   "nbconvert_exporter": "python",
   "pygments_lexer": "ipython3",
   "version": "3.8.5"
  }
 },
 "nbformat": 4,
 "nbformat_minor": 2
}

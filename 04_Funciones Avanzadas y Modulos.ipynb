{
 "cells": [
  {
   "cell_type": "markdown",
   "metadata": {},
   "source": [
    "# Uso Avanzado de Funciones"
   ]
  },
  {
   "cell_type": "markdown",
   "metadata": {},
   "source": [
    "## Funcionres recursivas\n",
    "Se trata de funciones que se llaman a sí mismas durante su propia ejecución. Funcionan de forma similar a las iteraciones, y debemos encargarnos de planificar el momento en que una función recursiva deja de llamarse o tendremos una función rescursiva infinita.\n",
    "\n",
    "Suele utilizarse para dividir una tarea en subtareas más simples de forma que sea más fácil abordar el problema y solucionarlo."
   ]
  },
  {
   "cell_type": "code",
   "execution_count": null,
   "metadata": {},
   "outputs": [],
   "source": [
    "# Ejemplo sencillo sin retornar\n",
    "\n",
    "def cuenta_atras(num):\n",
    "    num -= 1\n",
    "    if num > 0:\n",
    "        print(num)\n",
    "        cuenta_atras(num)\n",
    "    else:\n",
    "        print(\"Boooooooom!\")\n",
    "        \n",
    "    print(\"Fin de la función\", num)\n",
    "\n",
    "cuenta_atras(3)"
   ]
  },
  {
   "cell_type": "markdown",
   "metadata": {},
   "source": [
    "### Ejemplo con retorno (factorial de un número)\n",
    "El factorial de un número corresponde al producto de todos los números desde 1 hasta el propio número:\n",
    "- 3! = 1 x 2 x 3 = 6\n",
    "- 5! = 1 x 2 x 3 x 4 x 5 = 120"
   ]
  },
  {
   "cell_type": "code",
   "execution_count": null,
   "metadata": {},
   "outputs": [],
   "source": [
    "def factorial(num):\n",
    "    if num > 1:\n",
    "        num = num * factorial(num -1)\n",
    "    return num\n",
    "\n",
    "\n",
    "varios = [ 5, 15 , 30 , 2]\n",
    "for f in varios:\n",
    "    print(f\"Factorial de {f} es {factorial(f)}\")"
   ]
  },
  {
   "cell_type": "markdown",
   "metadata": {},
   "source": [
    "A continuación se especifica la forma de ampliar la forma de uso de las funciones en python y como beneficia su uso."
   ]
  },
  {
   "cell_type": "markdown",
   "metadata": {},
   "source": [
    "## Parámetros por defecto"
   ]
  },
  {
   "cell_type": "markdown",
   "metadata": {},
   "source": [
    "Como habíamos visto una función se le pueden definir argumentos nombrados.  Estos se llaman argumentos posicionales:"
   ]
  },
  {
   "cell_type": "code",
   "execution_count": null,
   "metadata": {
    "scrolled": true
   },
   "outputs": [],
   "source": [
    "def mi_funcion( arg1 , arg2 , arg3 ):\n",
    "    print(arg1)\n",
    "    print(arg2)\n",
    "    print(arg3)\n",
    "    \n",
    "\n",
    "mi_funcion( 1 , 2 , \"rafa\" )"
   ]
  },
  {
   "cell_type": "markdown",
   "metadata": {},
   "source": [
    "Sin embargo en muchos casos no es necesario definir todos los valores para los parámetros si definimos un valor por defecto.  Observe que la misma funcion se comporta distinto dependiendo si se le envía un valor o no."
   ]
  },
  {
   "cell_type": "code",
   "execution_count": null,
   "metadata": {
    "scrolled": true
   },
   "outputs": [],
   "source": [
    "def mi_funcion( x , y , potencia = False ):\n",
    "    if potencia:\n",
    "        print(x ** y )\n",
    "    else:\n",
    "        print( x * y )\n",
    "    \n",
    "\n",
    "mi_funcion( 4 , 5 , True )\n",
    "print()\n",
    "mi_funcion( 4 , 5 )"
   ]
  },
  {
   "cell_type": "code",
   "execution_count": null,
   "metadata": {
    "scrolled": true
   },
   "outputs": [],
   "source": [
    "# Esto Genera error\n",
    "\n",
    "mi_funcion(1 , potencia = True)"
   ]
  },
  {
   "cell_type": "code",
   "execution_count": null,
   "metadata": {
    "scrolled": true
   },
   "outputs": [],
   "source": [
    "# No se pueden definir argumentos posicionales despues de argumentos por defecto\n",
    "\n",
    "def mi_funcion( x ,  potencia = False , y ):\n",
    "    if potencia:\n",
    "        print(x ** y )\n",
    "    else:\n",
    "        print( x * y )\n",
    "    \n"
   ]
  },
  {
   "cell_type": "markdown",
   "metadata": {},
   "source": [
    "### Ejercicio\n",
    "\n",
    "Realice una función llamada recortar() que reciba tres parámetros. El primero es el número a recortar, el segundo es el límite inferior y el tercero el límite superior. La función tendrá que cumplir lo siguiente:**\n",
    "\n",
    "* Devolver el límite inferior si el número es menor que éste\n",
    "* Devolver el límite superior si el número es mayor que éste.\n",
    "* Devolver el número sin cambios si no se supera ningún límite.\n",
    "\n",
    "** Compruebe el resultado de recortar 15 entre los límites 0 y 10**\n"
   ]
  },
  {
   "cell_type": "code",
   "execution_count": null,
   "metadata": {},
   "outputs": [],
   "source": [
    "# Desarrolle su funcion aqui"
   ]
  },
  {
   "cell_type": "markdown",
   "metadata": {},
   "source": [
    "## args y kwargs"
   ]
  },
  {
   "cell_type": "markdown",
   "metadata": {},
   "source": [
    "### *args\n",
    "\n",
    "Como habíamos visto una función se le pueden definir argumentos nombrados y que pudieran tener argumentos posicionales, sin embargo hay un tipo de argumentos llamados no nombrados de tamaño variable.\n",
    "\n",
    "Para la muestra un ejemplo:"
   ]
  },
  {
   "cell_type": "code",
   "execution_count": null,
   "metadata": {
    "scrolled": true
   },
   "outputs": [],
   "source": [
    "def multi(x, y):\n",
    "    print (x * y)\n",
    "\n",
    "multi(5, 4)"
   ]
  },
  {
   "cell_type": "code",
   "execution_count": null,
   "metadata": {
    "scrolled": true
   },
   "outputs": [],
   "source": [
    "# que pasa si ponemos más datos?\n",
    "\n",
    "multi(5, 4 , 6)"
   ]
  },
  {
   "cell_type": "markdown",
   "metadata": {},
   "source": [
    "Si considera que su funcion necesita más argumentos más adelante puede utilizar la sintaxis de __*args__ para establecer un numero variante de argumentos:  \n",
    "\n",
    "_(No necesariamente tiene que llamarse args, es la convención más utilizada.  Lo importante es el asterísco)_"
   ]
  },
  {
   "cell_type": "code",
   "execution_count": null,
   "metadata": {
    "scrolled": true
   },
   "outputs": [],
   "source": [
    "def suma(*args):\n",
    "    z = 0\n",
    "    for num in args:\n",
    "        z = z + num\n",
    "    return z\n",
    "\n",
    "print( suma( 1, 2 ) )\n",
    "print( suma( 1, 2, 3) )\n",
    "print( suma( 1, 2, 3 , 4) )"
   ]
  },
  {
   "cell_type": "markdown",
   "metadata": {},
   "source": [
    "Dado que usamos **args** para enviar argumentos de longitud variable, somos capaces de pasar cualesquier número de argumentos que deseemos.   Con args se puede crear código más flexible que acepta una cantidad variada de argumentos en una función."
   ]
  },
  {
   "cell_type": "markdown",
   "metadata": {},
   "source": [
    "### *kwargs\n",
    "\n",
    "La forma de parámetro de doble asterísco __**kwargs__ es utilizado para enviar un diccionario de longitud variada (con nombre propio) a una función.  Los dos asteriscos es la parte importante más no el nombre del parámetro.  Por convención se usa __**kwargs__.\n",
    "\n",
    "Al igual que _*args_ , __**kwargs__ puede tomar un número arbitrario de parámetros por medio de un diccionario.  Sin embargo kwargs requiere que se defina nombre a las variables que se están enviado, a diferencia de args."
   ]
  },
  {
   "cell_type": "code",
   "execution_count": null,
   "metadata": {
    "scrolled": true
   },
   "outputs": [],
   "source": [
    "def print_kwargs(**kwargs):\n",
    "        print(kwargs)\n",
    "        "
   ]
  },
  {
   "cell_type": "code",
   "execution_count": null,
   "metadata": {
    "scrolled": true
   },
   "outputs": [],
   "source": [
    "print_kwargs(kw1_1=\"Tiburoncín\", kw2=4.5, k_3={ \"campo1\" : 5} )"
   ]
  },
  {
   "cell_type": "markdown",
   "metadata": {},
   "source": [
    "Lo importante a resaltar es que **kwargs** es un diccionario común y corriente y puede utilizarse toda su funcionalidad.\n",
    "\n",
    "A Continuación se muestra la definición de otra función y como sacar provecho de su funcionalidad:"
   ]
  },
  {
   "cell_type": "code",
   "execution_count": null,
   "metadata": {
    "scrolled": true
   },
   "outputs": [],
   "source": [
    "def imprimir(**kwargs):\n",
    "    for key, value in kwargs.items():\n",
    "        print(\"El valor de {} is {}\".format(key, value))\n",
    "\n",
    "imprimir(mi_nombre=\"Oscar\", tu_nombre=\"Juan\")"
   ]
  },
  {
   "cell_type": "code",
   "execution_count": null,
   "metadata": {
    "scrolled": true
   },
   "outputs": [],
   "source": [
    "imprimir(\n",
    "            nombre1=\"Yascaira\",\n",
    "            nombre2=\"Monica\",\n",
    "            nombre3=\"Carolina\",\n",
    "            nombre4=\"Bernardo\",\n",
    "            nombre5=\"Eduardo\",\n",
    "            nombre16=\"Simon\"\n",
    "        )"
   ]
  },
  {
   "cell_type": "markdown",
   "metadata": {},
   "source": [
    "Debido a que lo que se recibe un diccionario, que tal si lo armamos dinámicamente y lo enviamos como parámetro?:"
   ]
  },
  {
   "cell_type": "code",
   "execution_count": null,
   "metadata": {
    "scrolled": true
   },
   "outputs": [],
   "source": [
    "def f123(**kwargs):\n",
    "    print(kwargs)\n",
    "\n",
    "nombre_variable = \"mi_nombre\"\n",
    "    \n",
    "mi_dict = {\n",
    "    \n",
    "    \"campo1\" : 1 ,\n",
    "    \"campo2\" : 2 ,\n",
    "    \"campo3\" : 3 ,\n",
    "    nombre_variable : 4    \n",
    "}\n",
    "\n",
    "f123(**mi_dict)"
   ]
  },
  {
   "cell_type": "markdown",
   "metadata": {},
   "source": [
    "### Ordenamiento de Parámetros\n",
    "\n",
    "Python define claramente cual es el orden de definición de parámetros:\n",
    "\n",
    "1.  Argumentos posicionales.\n",
    "2.  \\*args\n",
    "3.  Argumentos nombrados\n",
    "4.  \\*\\*kwargs\n"
   ]
  },
  {
   "cell_type": "code",
   "execution_count": null,
   "metadata": {
    "scrolled": true
   },
   "outputs": [],
   "source": [
    "def mi_gran_funcion( p1 , p2 , *args , campo1 = True , **kwargs ):\n",
    "    print( p1 , p2 )\n",
    "    print( [x for x in args ] )\n",
    "    print( campo1 )\n",
    "    print( [ (k , v) for k , v in kwargs.items()] )\n",
    "    \n",
    "\n",
    "    \n",
    "mi_gran_funcion( 5 , 6, 7 , 7, 8 , 9 , 10 )\n",
    "print()\n",
    "mi_gran_funcion( 5 , 6, 7 , 7, 8  , campo1 = False)\n",
    "print()\n",
    "mi_gran_funcion( 5 , 6, 7 , 7, 8 , 9 , 10 , campo_01 = 2 , campo_03 = \"otro valor\")\n",
    "print()\n"
   ]
  },
  {
   "cell_type": "code",
   "execution_count": null,
   "metadata": {
    "scrolled": true
   },
   "outputs": [],
   "source": [
    "# Qué pasa si.....\n",
    "mi_gran_funcion( 5 , 6  )\n",
    "print()\n",
    "mi_gran_funcion( 5 , 6 , 8  )"
   ]
  },
  {
   "cell_type": "markdown",
   "metadata": {},
   "source": [
    "### Ejercicio\n",
    "\n",
    "Utilice lo anteriormente aprendido para definir una funcion que reciba todo tipo de parámetros que permita hacer:\n",
    "\n",
    "multiplicar los 2 primeros parámetros fijos, este valor sumarlo con la multiplicación de cualquier cantidad de valores que sigan si el valor del parámetro _sumar_ es **True** o restarlo si lo contrario.  Adicionalmente al resultado anterior multiplicarlo por todos los valores de parámetros dinámicos nombrados que se requieran.  (Pista, usar todos los tipos de argumentos).\n"
   ]
  },
  {
   "cell_type": "code",
   "execution_count": null,
   "metadata": {
    "scrolled": true
   },
   "outputs": [],
   "source": [
    "def mifuncion( ... ):\n",
    "    ...\n",
    "\n",
    "\n",
    "mi_funcion()"
   ]
  },
  {
   "cell_type": "markdown",
   "metadata": {},
   "source": [
    "## Funciones como argumento"
   ]
  },
  {
   "cell_type": "markdown",
   "metadata": {},
   "source": [
    "Python puede definir un argumento como una funcion.  Y puede ejecutar esta de acuerdo a las necesidades.  Note la gran flexibilidad que obtiene la funcion aplicar para hacer lo que uno le diga que haga!"
   ]
  },
  {
   "cell_type": "code",
   "execution_count": null,
   "metadata": {
    "scrolled": true
   },
   "outputs": [],
   "source": [
    "# Una función que recibe funcionees\n",
    "def aplicar( funcion , *args ):\n",
    "    return funcion(*args)\n",
    "    \n",
    "# una funcion normalita\n",
    "def suma( *args ):\n",
    "    return sum([ x for x in args ])\n",
    "\n",
    "#Otra función normalita\n",
    "def multiplicacion( *args ):\n",
    "    z = 1\n",
    "    for num in args:\n",
    "        z = z * num\n",
    "    return z\n",
    "\n",
    "\n",
    "print(aplicar( suma , 4 , 8 ) )\n",
    "print(aplicar( suma , 4 , 8 , 9 , 10 ) )\n",
    "print()\n",
    "print(aplicar( multiplicacion , 4 , 8 ) )\n",
    "print(aplicar( multiplicacion , 4 , 8 , 9 , 10 ) )"
   ]
  },
  {
   "cell_type": "markdown",
   "metadata": {},
   "source": [
    "Una forma de aplicar esta funcionalidad será para definir una funcion map en una clase. Más adelante lo veremos."
   ]
  },
  {
   "cell_type": "markdown",
   "metadata": {},
   "source": [
    "### Ejercicio\n",
    "\n",
    "Realiza una función separar() que tome una lista de números enteros y devuelva dos listas ordenadas. La primera con los números pares, y la segunda con los números impares:**\n",
    "\n",
    "Por ejemplo: \n",
    "\n",
    "```python\n",
    "pares, impares = separar([6,5,2,1,7])\n",
    "print(pares)   # valdría [2, 6]\n",
    "print(impares)  # valdría [1, 5, 7]\n",
    "\n",
    "```\n",
    "\n",
    "*Nota: Para ordenar una lista automáticamente puedes usar el método .sort().*"
   ]
  },
  {
   "cell_type": "code",
   "execution_count": null,
   "metadata": {},
   "outputs": [],
   "source": [
    "# Desarrolle su función aqui"
   ]
  },
  {
   "cell_type": "markdown",
   "metadata": {},
   "source": [
    "."
   ]
  },
  {
   "cell_type": "markdown",
   "metadata": {},
   "source": [
    "# Módulos\n",
    "\n",
    "Si ustéd sale de un interpretador de python (o este cuaderno) las definiciones que realice (funciones, variables , etc) se pierden.  Por lo tanto si se desea escribir un programa más largo ( y no repetir siempre lo que hace), lo mejor es escribir un archivo (llamado también script) y utilizarlo de manera concurrente.  La funcionalidad puede ser tan grande que es posible que sus funciones y definiciones se separen en varios scripts.\n",
    "\n",
    "Python tiene una manera de cargar estos scripts para usarlos en otros scripts o en una instancia interactiva (o un cuaderno como éste).\n",
    "\n",
    "Un módulo es un archivo (script) que contiene deficiones y sentencias de python.  El nombre del archivo es el nombre del módulo con la extensión **.py** en él.  Dentro de un módulo el nombre de éste se puede encontrar con la variable global  __\\_\\_name\\_\\___ .\n",
    "A continuación un ejemplo con el script **fibonacci**"
   ]
  },
  {
   "cell_type": "code",
   "execution_count": null,
   "metadata": {
    "scrolled": true
   },
   "outputs": [],
   "source": [
    "# Ubiquemos la ruta del script:\n",
    "ruta = \"D:/git/notebooks/python/curso/\"\n",
    "\n",
    "# Añadamos esta ruta a la ruta de las librerías de python\n",
    "import sys\n",
    "sys.path.append(ruta)"
   ]
  },
  {
   "cell_type": "code",
   "execution_count": null,
   "metadata": {
    "scrolled": true
   },
   "outputs": [],
   "source": [
    "import fibonacci as f"
   ]
  },
  {
   "cell_type": "code",
   "execution_count": null,
   "metadata": {
    "scrolled": true
   },
   "outputs": [],
   "source": [
    "f.fib(1000)\n",
    "f.fib2(1000)"
   ]
  },
  {
   "cell_type": "code",
   "execution_count": null,
   "metadata": {
    "scrolled": true
   },
   "outputs": [],
   "source": [
    "f.__name__"
   ]
  },
  {
   "cell_type": "code",
   "execution_count": null,
   "metadata": {
    "scrolled": true
   },
   "outputs": [],
   "source": [
    "# Recuerde que uno puede asignar funciones como parámetros o variables\n",
    "\n",
    "fibona = f.fib2\n",
    "fibona(30)"
   ]
  },
  {
   "cell_type": "code",
   "execution_count": null,
   "metadata": {
    "scrolled": true
   },
   "outputs": [],
   "source": [
    "#Quë considera que pasa aqui?\n",
    "fibonacci(10)\n",
    "fibonacci.fib2(10)"
   ]
  },
  {
   "cell_type": "markdown",
   "metadata": {},
   "source": [
    "Tambien se puede importar de manera independiente las definiciones hechas en el módulo.  O incluso importar todo:"
   ]
  },
  {
   "cell_type": "code",
   "execution_count": null,
   "metadata": {
    "scrolled": true
   },
   "outputs": [],
   "source": [
    "#Esto da error:\n",
    "fib(30)"
   ]
  },
  {
   "cell_type": "code",
   "execution_count": null,
   "metadata": {
    "scrolled": true
   },
   "outputs": [],
   "source": [
    "from fibonacci import fib , fib2\n",
    "\n",
    "fib(30)"
   ]
  },
  {
   "cell_type": "markdown",
   "metadata": {},
   "source": [
    "Esto es igual a lo anterior dado que nuestro módulo solo tiene estas 2 funciones.   Para módulos más grandes y complejos puede ser una mucho mejor alternativa:"
   ]
  },
  {
   "cell_type": "code",
   "execution_count": null,
   "metadata": {
    "scrolled": true
   },
   "outputs": [],
   "source": [
    "from fibonacci import *"
   ]
  },
  {
   "cell_type": "markdown",
   "metadata": {},
   "source": [
    "Por razones de eficiencia un módulo solo se importa una vez por sesión, por lo que si hay cambios durante la sesión, el módulo se tendrá que recargar.  Para esto se debe usar la funcionalidad de **importlib**.\n",
    "\n",
    "Ejercicio:\n",
    "\n",
    "Añada una funcion de suma a su script de tipo:\n",
    "\n",
    "`\n",
    "def suma_en_fibo( x , y ):\n",
    "    print( x + y )\n",
    "`\n",
    "\n",
    "y ejecute lo siguiente:"
   ]
  },
  {
   "cell_type": "code",
   "execution_count": null,
   "metadata": {
    "scrolled": true
   },
   "outputs": [],
   "source": [
    "#ué pasa aqui?\n",
    "\n",
    "f.suma_en_fibo(4 , 5)"
   ]
  },
  {
   "cell_type": "code",
   "execution_count": null,
   "metadata": {
    "scrolled": true
   },
   "outputs": [],
   "source": [
    "import importlib\n",
    "importlib.reload( f )  # decimos f porque lo habíamos importado con ese nombre anteriormente\n",
    "\n",
    "f.suma_en_fibo(4 , 5)"
   ]
  },
  {
   "cell_type": "markdown",
   "metadata": {},
   "source": [
    "La función de dir es bastante útil, debido a que nos indica cuales son las sentencias definidas para el módulo (o cualquier objeto / variable ) "
   ]
  },
  {
   "cell_type": "code",
   "execution_count": null,
   "metadata": {
    "scrolled": true
   },
   "outputs": [],
   "source": [
    "dir(f)"
   ]
  },
  {
   "cell_type": "markdown",
   "metadata": {},
   "source": [
    "## Ejercicio\n",
    "\n",
    "Cree un módulo que se llame **curso.py** que tenga las siguientes funciones:\n",
    "\n",
    "\n",
    "*  _ejecutora_ :Función que imprime el resultado de ejecutar la funcion que se le mande como parámetros y argumentos variables no nombrados.\n",
    "*  _dist_points_ :Funcion que imprime la distancia (en metros) entre 2 puntos geográficos (latitud , longitud)\n",
    "*  _kwargafunc_ :Imprimir todos los nombres y valores de los parámetros kwargs que se le envíen.\n",
    "\n",
    "Asegúrese de poner la ruta del módulo en la variable **ruta_curso** adecuadamente.\n",
    "\n",
    "**Si hace todo bien, ejecutar la siguiente celda no debería sacar ningun error**"
   ]
  },
  {
   "cell_type": "code",
   "execution_count": null,
   "metadata": {},
   "outputs": [],
   "source": [
    "import sys\n",
    "import datetime\n",
    "\n",
    "ruta_curso = \"\"\n",
    "sys.path.append(ruta_curso)\n",
    "\n",
    "import curso as c\n",
    "\n",
    "\n",
    "#############################\n",
    "# Construcción de parámetros\n",
    "#############################\n",
    "\n",
    "def una_funca_mia(*args):\n",
    "    return { a : a**a for a in args } \n",
    "\n",
    "dth = datetime.date.today()\n",
    "hoy = dth.strftime('%Y%m%d')\n",
    "mes = int(dth.strftime('%m'))\n",
    "anho_p = (dth - datetime.timedelta( 5 *365/12)).strftime('%Y')\n",
    "anho_a = dth.strftime('%Y')\n",
    "dicto = { \"anho_a\" : anho_a ,\n",
    "          \"mes\" : mes ,\n",
    "          \"anho_a\" : anho_a ,\n",
    "          \"anho_p\" : anho_p ,\n",
    "          \"hoy\" : hoy }\n",
    "\n",
    "# Yumbo \n",
    "lat1 = 3.506309\n",
    "lon1 = -76.519851\n",
    "\n",
    "# la puerta a otra dimensión\n",
    "lat2 = 10.926744\n",
    "lon2 = -74.778679\n",
    "\n",
    "########################\n",
    "#  Ejecución del Módulo\n",
    "########################\n",
    "\n",
    "c.ejecutora( una_funca_mia , 1 , 2 , 3 , 4 )\n",
    "c.dist_points( lat1 , lon1 , lat2 , lon2  )\n",
    "c.kwargafunc( **dicto )"
   ]
  },
  {
   "cell_type": "markdown",
   "metadata": {},
   "source": [
    "Los resultados esperados son:\n",
    "    \n",
    "*  **ejecutora** : {1: 1, 2: 4, 3: 27, 4: 256}\n",
    "*  **dist-points** : 847144.213\n",
    "*  **kwargafunc** : \n",
    "*  -  anho_a 2021\n",
    "*  -  mes 5\n",
    "*  -  anho_p 2020\n",
    "*  -  hoy 20210525"
   ]
  }
 ],
 "metadata": {
  "kernelspec": {
   "display_name": "Python 3",
   "language": "python",
   "name": "python3"
  },
  "language_info": {
   "codemirror_mode": {
    "name": "ipython",
    "version": 3
   },
   "file_extension": ".py",
   "mimetype": "text/x-python",
   "name": "python",
   "nbconvert_exporter": "python",
   "pygments_lexer": "ipython3",
   "version": "3.8.5"
  }
 },
 "nbformat": 4,
 "nbformat_minor": 2
}

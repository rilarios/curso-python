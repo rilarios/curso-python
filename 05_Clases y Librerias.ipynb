{
 "cells": [
  {
   "cell_type": "markdown",
   "metadata": {},
   "source": [
    "# Clases\n",
    "\n",
    "Las clases son elementos fundamentales en la programación orientada a objetos.  Las clases me permiten definir entidades que tienen **atributos** y **comportamientos** claros, y repetibles.\n",
    "\n",
    "Una variable puede ser construida a partir de una clase.  Cada variable (en este caso llamada **instancia**) tendrá los mismos atributos y los mismos comportamientos.\n",
    "\n",
    "Es así que la clase define las reglas en las que el objeto se identifica y se comporta.  Las instancias son \"_copias_\" de la clase con sus propios valores de atributos que comparten su mismo comportamiento."
   ]
  },
  {
   "cell_type": "markdown",
   "metadata": {},
   "source": [
    "Miremos un ejemplo conceptual:\n",
    "    \n",
    "Uno puede tener una clase **perro**, el perro tiene atributos como nombre , color , edad, velocidad media.  Tambien tiene comportamientos (o métodos), como hablar, comer, etc.  Los métodos pueden recibir atributos y modificar los propios.\n",
    "\n",
    "**Como se implementa esto en python?:**"
   ]
  },
  {
   "cell_type": "code",
   "execution_count": null,
   "metadata": {},
   "outputs": [],
   "source": [
    "import datetime\n",
    "\n",
    "class Perro():\n",
    "    def __init__(self , nombre , color , a_nacimiento , raza , v_media = 10):\n",
    "        self.nombre = nombre\n",
    "        self.color = color\n",
    "        self.a_nacimiento = a_nacimiento\n",
    "        self.raza = raza\n",
    "        self.velocidad = v_media\n",
    "        \n",
    "    def get_edad(self):\n",
    "        actual = int(datetime.date.today().strftime('%Y'))\n",
    "        return actual - self.a_nacimiento\n",
    "        \n",
    "    def hablar(self):\n",
    "        print(\"Guau Guau!\")\n",
    "        \n",
    "    def rapidez(self):\n",
    "        # Cuanto se demora en correr 1 kilómetro?\n",
    "        return 60 / self.velocidad\n",
    "        \n",
    "    def identifiquese(self):\n",
    "        print(f\"\"\"Hola, me llamo {self.nombre}, de raza {self.raza}, tengo {self.get_edad()} años \\\n",
    "y recorro 1 kilometro en {self.rapidez()} minutos\"\"\")"
   ]
  },
  {
   "cell_type": "markdown",
   "metadata": {},
   "source": [
    "Una clase identifica todos los atributos (variables propias que lo identifican) y métodos (funciones que definen su comportamiento).\n",
    "\n",
    "Como se instancia un objeto de una clase?:"
   ]
  },
  {
   "cell_type": "code",
   "execution_count": null,
   "metadata": {},
   "outputs": [],
   "source": [
    "a = Perro(\"firulais\" , \"rojo\" , 2000 , \"Doberman\")\n",
    "b = Perro(\"trosky\" , \"azul\" , 2008 , \"Husky\" , 20)\n",
    "\n",
    "a.identifiquese()\n",
    "b.identifiquese()\n",
    "print()\n",
    "\n",
    "b.hablar()"
   ]
  },
  {
   "cell_type": "markdown",
   "metadata": {},
   "source": [
    "### Ejercicio\n",
    "\n",
    "Observe la definición siguiente.  Observe las clases , sus atributos y comportamientos.  Utilice estas definiciones para crear un catálogo, y añadir 5 películas.  Muestre las peliculas al final.  \n",
    "\n",
    "¿Cómo hacerlo lo más rápido posible sin necesidad de instanciar una variable por cada película?"
   ]
  },
  {
   "cell_type": "code",
   "execution_count": null,
   "metadata": {},
   "outputs": [],
   "source": [
    "class Catalogo():\n",
    "    peliculas = []\n",
    "    def __init__(self,peliculas=[]):\n",
    "        self.peliculas=peliculas\n",
    "        print('Se creó un catálogo')\n",
    "    def agregar_pelicula(self,pelicula):\n",
    "        self.peliculas.append(pelicula)\n",
    "        print('Se agregó la peli : ',pelicula.nombre)\n",
    "    def mostrar_pelis(self):\n",
    "        for p in self.peliculas:\n",
    "            print(p.nombre,p.ano,p.duracion)\n",
    "            \n",
    "class Pelicula():\n",
    "    def __init__(self,nombre,director,genero,ano,duracion):\n",
    "        self.nombre=nombre\n",
    "        self.director=director\n",
    "        self.genero=genero\n",
    "        self.ano=ano\n",
    "        self.duracion=duracion\n",
    "        print('Se creó la película {},de {},genero: {}, Año : {} y dura {}'.format(self.nombre,\n",
    "                                                                         self.director,\n",
    "                                                                         self.genero,\n",
    "                                                                         self.ano,\n",
    "                                                                         self.duracion))\n",
    "    def fecha_de_estreno(self):\n",
    "        print(f'La película se estrenó en el {self.ano}')\n",
    "    \n",
    "    def __len__(self):\n",
    "        return self.duracion"
   ]
  },
  {
   "cell_type": "code",
   "execution_count": null,
   "metadata": {},
   "outputs": [],
   "source": [
    "\n",
    "# Desarrolle su ejercicio aqui\n"
   ]
  },
  {
   "cell_type": "code",
   "execution_count": null,
   "metadata": {},
   "outputs": [],
   "source": [
    "# Observe lo siguiente:\n",
    "\n",
    "len( Pelicula(\"p1\" , \"yo\" , \"accion\" , 2001 , 120) )\n",
    "\n",
    "# Que pasa aqui?"
   ]
  },
  {
   "cell_type": "markdown",
   "metadata": {},
   "source": [
    "##  Algunos casos y comportamientos especiales de atributos o métodos\n",
    "\n",
    "### Atributos dínamicos\n",
    "\n",
    "No siempre es necesario definir las variables o atributos de la clase en el momento de definición o en su método de __init__"
   ]
  },
  {
   "cell_type": "code",
   "execution_count": null,
   "metadata": {},
   "outputs": [],
   "source": [
    "class Galleta:\n",
    "    pass\n",
    "\n",
    "una_galleta = Galleta()"
   ]
  },
  {
   "cell_type": "code",
   "execution_count": null,
   "metadata": {},
   "outputs": [],
   "source": [
    "# Atributos dínámicos!\n",
    "\n",
    "una_galleta.sabor = \"Salado\"\n",
    "una_galleta.color = \"Marrón\"\n",
    "\n",
    "print(\"El sabor de esta galleta es\",una_galleta.sabor)\n"
   ]
  },
  {
   "cell_type": "markdown",
   "metadata": {},
   "source": [
    "### Métodos y la palabra self\n",
    "**Self** sirve para hacer referencia a los métodos y atributos base de una clase dentro de sus propios métodos."
   ]
  },
  {
   "cell_type": "code",
   "execution_count": null,
   "metadata": {},
   "outputs": [],
   "source": [
    "class Galleta():\n",
    "    chocolate = False\n",
    "    \n",
    "    def __init__(self):\n",
    "        print(\"Se acaba de crear una galleta.\")\n",
    "    \n",
    "    def chocolatear(self):\n",
    "        self.chocolate = True\n",
    "        \n",
    "    def tiene_chocolate(self):\n",
    "        if (self.chocolate):\n",
    "            print(\"Soy una galleta chocolateada :-D\")\n",
    "        else:\n",
    "            print(\"Soy una galleta sin chocolate :-(\")\n",
    "    \n",
    "g = Galleta()\n",
    "g.tiene_chocolate()\n",
    "g.chocolatear()\n",
    "g.tiene_chocolate()"
   ]
  },
  {
   "cell_type": "markdown",
   "metadata": {},
   "source": [
    "### Parámetros con valores por defecto en el init()"
   ]
  },
  {
   "cell_type": "code",
   "execution_count": null,
   "metadata": {},
   "outputs": [],
   "source": [
    "class Galleta():\n",
    "    chocolate = False\n",
    "    \n",
    "    def __init__(self, sabor=None, forma=None):\n",
    "        self.sabor = sabor\n",
    "        self.forma = forma\n",
    "        if sabor is not None and forma is not None:\n",
    "            print(\"Se acaba de crear una galleta {} y {}\".format(sabor,forma))\n",
    "    \n",
    "    def chocolatear(self):\n",
    "        self.chocolate = True\n",
    "        \n",
    "    def tiene_chocolate(self):\n",
    "        if (self.chocolate):\n",
    "            print(\"Soy una galleta chocolateada :-D\")\n",
    "        else:\n",
    "            print(\"Soy una galleta sin chocolate :-(\")"
   ]
  },
  {
   "cell_type": "code",
   "execution_count": null,
   "metadata": {},
   "outputs": [],
   "source": [
    "g = Galleta(\"salada\",\"cuadrada\")\n",
    "g.tiene_chocolate()"
   ]
  },
  {
   "cell_type": "markdown",
   "metadata": {},
   "source": [
    "# Métodos especiales de clase\n",
    "## Constructor y destructor"
   ]
  },
  {
   "cell_type": "code",
   "execution_count": null,
   "metadata": {},
   "outputs": [],
   "source": [
    "class Pelicula:\n",
    "    # Constructor de clase (al crear la instancia)\n",
    "    def __init__(self,titulo,duracion,lanzamiento):\n",
    "        self.titulo = titulo\n",
    "        self.duracion = duracion\n",
    "        self.lanzamiento = lanzamiento\n",
    "        print(\"Se ha creado la película\",self.titulo)\n",
    "        \n",
    "    # Destructor de clase (al borrar la instancia)\n",
    "    def __del__(self):\n",
    "        print(\"Se está borrando la película\", self.titulo)\n",
    "        \n",
    "p = Pelicula(\"El Padrino\",175,1972)"
   ]
  },
  {
   "cell_type": "markdown",
   "metadata": {},
   "source": [
    "Al reinstanciar la misma variable se crea de nuevo y se borra la anterior"
   ]
  },
  {
   "cell_type": "code",
   "execution_count": null,
   "metadata": {},
   "outputs": [],
   "source": [
    "p = Pelicula(\"El Padrino\",175,1973)"
   ]
  },
  {
   "cell_type": "markdown",
   "metadata": {},
   "source": [
    "## String\n",
    "Para devolver una cadena por defecto al convertir un objeto a una cadena con str(objeto):"
   ]
  },
  {
   "cell_type": "code",
   "execution_count": null,
   "metadata": {},
   "outputs": [],
   "source": [
    "str(p)"
   ]
  },
  {
   "cell_type": "code",
   "execution_count": null,
   "metadata": {},
   "outputs": [],
   "source": [
    "class Pelicula:\n",
    "    # Constructor de clase\n",
    "    def __init__(self,titulo,duracion,lanzamiento):\n",
    "        self.titulo = titulo\n",
    "        self.duracion = duracion\n",
    "        self.lanzamiento = lanzamiento\n",
    "        print(\"Se ha creado la película\",self.titulo)\n",
    "        \n",
    "    # Destructor de clase\n",
    "    def __del__(self):\n",
    "        print(\"Se está borrando la película\", self.titulo)\n",
    "        \n",
    "    # Redefinimos el método string\n",
    "    def __str__(self):\n",
    "        return \"{} lanzada en {} con una duración de {} minutos\".format(self.titulo,self.lanzamiento,self.duracion)\n",
    "        \n",
    "p = Pelicula(\"El Padrino\",175,1972)"
   ]
  },
  {
   "cell_type": "code",
   "execution_count": null,
   "metadata": {},
   "outputs": [],
   "source": [
    "str(p)"
   ]
  },
  {
   "cell_type": "markdown",
   "metadata": {},
   "source": [
    "## Length\n",
    "Para devolver un número que simula la longitud del objeto len(objeto):"
   ]
  },
  {
   "cell_type": "code",
   "execution_count": null,
   "metadata": {},
   "outputs": [],
   "source": [
    "len(p)"
   ]
  },
  {
   "cell_type": "code",
   "execution_count": null,
   "metadata": {},
   "outputs": [],
   "source": [
    "class Pelicula:\n",
    "    # Constructor de clase\n",
    "    def __init__(self,titulo,duracion,lanzamiento):\n",
    "        self.titulo = titulo\n",
    "        self.duracion = duracion\n",
    "        self.lanzamiento = lanzamiento\n",
    "        print(\"Se ha creado la película\",self.titulo)\n",
    "        \n",
    "    # Destructor de clase\n",
    "    def __del__(self):\n",
    "        print(\"Se está borrando la película\", self.titulo)\n",
    "        \n",
    "    # Redefinimos el método string\n",
    "    def __str__(self):\n",
    "        return \"{} lanzada en {} con una duración de {} minutos\".format(self.titulo,self.lanzamiento,self.duracion)\n",
    "    \n",
    "    # Redefinimos el método length\n",
    "    def __len__(self):\n",
    "        return self.duracion\n",
    "        \n"
   ]
  },
  {
   "cell_type": "code",
   "execution_count": null,
   "metadata": {},
   "outputs": [],
   "source": [
    "p = Pelicula(\"El Padrino\",175,1972)\n",
    "len(p)"
   ]
  },
  {
   "cell_type": "markdown",
   "metadata": {},
   "source": [
    "## Encapsulación\n",
    "Consiste en denegar el acceso a los atributos y métodos internos de la clase desde el exterior.\n",
    "\n",
    "En Python no existen atributos de acceso a variables o métodos, pero se puede simular precediendo atributos y métodos con dos barras bajas __:"
   ]
  },
  {
   "cell_type": "code",
   "execution_count": null,
   "metadata": {},
   "outputs": [],
   "source": [
    "class Ejemplo:\n",
    "    __atributo_privado = \"Soy un atributo inalcanzable desde fuera\"\n",
    "    \n",
    "    def __metodo_privado(self):\n",
    "        print(\"Soy un método inalcanzable desde fuera\")\n",
    "        \n",
    "        \n",
    "e = Ejemplo()"
   ]
  },
  {
   "cell_type": "code",
   "execution_count": null,
   "metadata": {},
   "outputs": [],
   "source": [
    "e.__atributo_privado"
   ]
  },
  {
   "cell_type": "code",
   "execution_count": null,
   "metadata": {},
   "outputs": [],
   "source": [
    "e.__metodo_privado()"
   ]
  },
  {
   "cell_type": "code",
   "execution_count": null,
   "metadata": {},
   "outputs": [],
   "source": [
    "dir(e)"
   ]
  },
  {
   "cell_type": "markdown",
   "metadata": {},
   "source": [
    "## Cómo acceder\n",
    "Internamente la clase sí puede acceder a sus atributos y métodos encapsulados, el truco consiste en crear sus equivalentes \"publicos\":"
   ]
  },
  {
   "cell_type": "code",
   "execution_count": null,
   "metadata": {},
   "outputs": [],
   "source": [
    "class Ejemplo:\n",
    "    __atributo_privado = \"Soy un atributo inalcanzable desde fuera\"\n",
    "    \n",
    "    def __metodo_privado(self):\n",
    "        print(\"Soy un método inalcanzable desde fuera\")\n",
    "        \n",
    "    def atributo_publico(self):\n",
    "        return self.__atributo_privado\n",
    "        \n",
    "    def metodo_publico(self):\n",
    "        return self.__metodo_privado()"
   ]
  },
  {
   "cell_type": "code",
   "execution_count": null,
   "metadata": {},
   "outputs": [],
   "source": [
    "e = Ejemplo()\n",
    "print(e.atributo_publico())\n",
    "e.metodo_publico()"
   ]
  },
  {
   "cell_type": "markdown",
   "metadata": {},
   "source": [
    "## ¿Por qué usar encapsulación?\n",
    "\n",
    "La idea de la encapsulación es ocultar los detalles de la implementación de los usuarios (A ellos no les interesa!).  Si un atributo o método es privado, significa que solo debe ser accedido dentro de los métodos de la misma clase.  Ni métodos ni clases externas deberían poder acceder a miembros privados de la clase.  Encapsulación podría ser nombrado o llamado \"**ocultamiento de datos**\" u \"**ocultamiento de implementación**\".\n",
    "\n",
    "La encapsulación es más que simplemente esconder datos y generar métodos de acceso a ellos.  Es un concepto de programación que consiste en minimizar la interdependencia entre módulos/clases.   Lo principal de todo esto es que facilita los siguientes conceptos:\n",
    "\n",
    "1.  Ocultar complejidad\n",
    "2.  Ocultar las fuentes de cambio.\n",
    "3.  Facilitar el cambio.\n"
   ]
  },
  {
   "cell_type": "markdown",
   "metadata": {},
   "source": [
    "\n",
    "# Ejercicio\n",
    "\n",
    "## Puntos y coordenadas\n",
    "\n",
    "El objetivo es describir la posición de **puntos** sobre el plano en forma de **coordenadas**, que se forman asociando el valor del eje de las X (horizontal) con el valor del eje Y (vertical).\n",
    "\n",
    "La representación de un punto es sencilla: **P(X,Y)** dónde X y la Y son la distancia horizontal (izquierda o derecha) y vertical (arriba o abajo) respectivamente, utilizando como referencia el punto de origen (0,0), justo en el centro del plano.\n",
    "\n",
    "## Vectores en el plano\n",
    "\n",
    "Finalmente, un vector en el plano hace referencia a un segmento orientado, generado a partir de dos puntos distintos. \n",
    "\n",
    "A efectos prácticos no deja de ser una línea formada desde un punto inicial en dirección a otro punto final, por lo que se entiende que un vector tiene longitud y dirección/sentido.\n",
    "\n",
    "* **A(x1, y1)** => **A(2, 3)**\n",
    "* **B(x2, y2)** => **B(5, 5)**\n",
    "\n",
    "Y el vector se representaría como la diferencia entre las coordendas del segundo punto respecto al primero (el segundo menos el primero):\n",
    "* **AB = (x2-x1, y2-y1)** => **(5-2, 5-3)** => **(3,2)** \n",
    "\n",
    "Lo que en definitiva no deja de ser: 3 a la derecha y 2 arriba.\n",
    "\n",
    "#### Preparación\n",
    "\n",
    "* Crea una clase llamada **Punto** con sus dos coordenadas X e Y.\n",
    "* Añade un método **constructor** para crear puntos fácilmente. Si no se reciben una coordenada, su valor será cero.\n",
    "* Sobreescribe el método **string**, para que al imprimir por pantalla un punto aparezca en formato (X,Y)\n",
    "* Añade un método llamado **cuadrante** que indique a qué cuadrante pertenece el punto, o si es el origen.\n",
    "* Añade un método llamado **vector**, que tome otro punto y calcule el vector resultante entre los dos puntos.\n",
    "* (Optativo) Añade un método llamado **distancia**, que tome otro punto y calcule la distancia entre los dos puntos y la muestre por pantalla. La fórmula es la siguiente:\n",
    "\n",
    "`raiz_cuadrada((x2-x1)^2 + (y2-y1)^2)`\n",
    "\n",
    "*Nota: La función raíz cuadrada en Python sqrt() se debe importar del módulo math y utilizarla de la siguiente forma:*\n",
    "```python\n",
    "import math\n",
    "math.sqrt(9)\n",
    "> 3.0\n",
    "```\n",
    "\n",
    "* Crea una clase llamada **Rectangulo** con dos puntos (inicial y final) que formarán la diagonal del rectángulo.\n",
    "* Añade un método **constructor** para crear ambos puntos fácilmente, si no se envían se crearán dos puntos en el origen por defecto.\n",
    "* Añade al rectángulo un método llamado **base** que muestre la base.\n",
    "* Añade al rectángulo un método llamado **altura** que muestre la altura.\n",
    "* Añade al rectángulo un método llamado **area** que muestre el area.\n",
    "\n",
    "\n",
    "#### Experimentación\n",
    "* Crea los puntos A(2, 3),  B(5,5), C(-3, -1) y D(0,0) e imprimelos por pantalla.\n",
    "* Consulta a que cuadrante pertenecen el punto A, C y D.\n",
    "* Consulta los vectores AB y BA.\n",
    "* (Optativo) Consulta la distancia entre los puntos 'A y B' y 'B y A'. \n",
    "* (Optativo) Determina cual de los 3 puntos A, B o C, se encuentra más lejos del origen, punto (0,0). \n",
    "* Crea un rectángulo utilizando los puntos A y B.\n",
    "* Consulta la base, altura y área del rectángulo."
   ]
  },
  {
   "cell_type": "code",
   "execution_count": null,
   "metadata": {},
   "outputs": [],
   "source": [
    "#############################################\n",
    "# Desarrollo del ejercicio\n",
    "\n",
    "\n",
    "#############################################"
   ]
  },
  {
   "cell_type": "markdown",
   "metadata": {},
   "source": [
    "# Librerías de Python\n",
    "\n",
    "Python cuenta con muchas librerías propias que sirven para hacer una gran cantidad de operaciónes.  A continuación veremos algunas de las más utilizadas"
   ]
  },
  {
   "cell_type": "markdown",
   "metadata": {},
   "source": [
    "## Time y Datetime\n",
    "\n",
    "De las operaciones más utilizadas son aquellas a las que tenemos que trabajar con tiempos , fechas y demás."
   ]
  },
  {
   "cell_type": "code",
   "execution_count": null,
   "metadata": {},
   "outputs": [],
   "source": [
    "import time\n",
    "\n",
    "tic = time.time()"
   ]
  },
  {
   "cell_type": "code",
   "execution_count": null,
   "metadata": {},
   "outputs": [],
   "source": [
    "toc = time.time()\n",
    "\n",
    "print(toc - tic)"
   ]
  },
  {
   "cell_type": "code",
   "execution_count": null,
   "metadata": {},
   "outputs": [],
   "source": [
    "import datetime\n",
    "\n",
    "datetime.datetime.now()"
   ]
  },
  {
   "cell_type": "code",
   "execution_count": null,
   "metadata": {},
   "outputs": [],
   "source": [
    "dt=datetime.datetime.now()"
   ]
  },
  {
   "cell_type": "code",
   "execution_count": null,
   "metadata": {},
   "outputs": [],
   "source": [
    "# Alguos atributos\n",
    "print(dt.year) \n",
    "print(dt.month) \n",
    "print(dt.day) \n",
    "print(dt.hour) \n",
    "print(dt.minute) \n",
    "print(dt.second) \n",
    "print(dt.microsecond) "
   ]
  },
  {
   "cell_type": "code",
   "execution_count": null,
   "metadata": {},
   "outputs": [],
   "source": [
    "#Formateo de fechas en formato ISO\n",
    "dt.isoformat()"
   ]
  },
  {
   "cell_type": "markdown",
   "metadata": {},
   "source": [
    "### Formateo manual \n",
    "\n",
    "La librería permite formatear los resultados como queramos de acuerdo a unas condiciones y formatos especificos que puedes encontrar aqui:\n",
    "\n",
    "https://docs.python.org/3/library/datetime.html#strftime-and-strptime-behavior"
   ]
  },
  {
   "cell_type": "code",
   "execution_count": null,
   "metadata": {},
   "outputs": [],
   "source": [
    "dt.strftime(\"%a %D\")"
   ]
  },
  {
   "cell_type": "code",
   "execution_count": null,
   "metadata": {},
   "outputs": [],
   "source": [
    "print( dt.strftime(\"%y-%m-%d\") )\n",
    "print( dt.strftime(\"%Y-%m-%d\") )"
   ]
  },
  {
   "cell_type": "markdown",
   "metadata": {},
   "source": [
    "### Timedelta\n",
    "\n",
    "Se pueden añadir o reducir periodos de tiempo específicos mediante timedeltas"
   ]
  },
  {
   "cell_type": "code",
   "execution_count": null,
   "metadata": {},
   "outputs": [],
   "source": [
    "dt = datetime.datetime.now()\n",
    "t = datetime.timedelta(days=14, hours=4, seconds=1000)\n",
    "\n",
    "dentro_de_dos_semanas = dt + t"
   ]
  },
  {
   "cell_type": "code",
   "execution_count": null,
   "metadata": {},
   "outputs": [],
   "source": [
    "print(dentro_de_dos_semanas)"
   ]
  },
  {
   "cell_type": "code",
   "execution_count": null,
   "metadata": {},
   "outputs": [],
   "source": [
    "t = datetime.timedelta(hours=94)\n",
    "\n",
    "new = dt - t\n",
    "print(new)"
   ]
  },
  {
   "cell_type": "markdown",
   "metadata": {},
   "source": [
    "## Math\n",
    "\n",
    "Contiene muchas operaciones mátemáticas de fácil uso!"
   ]
  },
  {
   "cell_type": "code",
   "execution_count": null,
   "metadata": {},
   "outputs": [],
   "source": [
    "import math\n",
    "\n",
    "pi = 3.14159\n",
    "pi = math.pi # mucho mejor"
   ]
  },
  {
   "cell_type": "code",
   "execution_count": null,
   "metadata": {},
   "outputs": [],
   "source": [
    "math.floor(pi) # Redondeo a la baja - Suelo"
   ]
  },
  {
   "cell_type": "code",
   "execution_count": null,
   "metadata": {},
   "outputs": [],
   "source": [
    "math.floor(3.99)"
   ]
  },
  {
   "cell_type": "code",
   "execution_count": null,
   "metadata": {},
   "outputs": [],
   "source": [
    "math.ceil(pi)  # Redondeo al alta - Techo"
   ]
  },
  {
   "cell_type": "code",
   "execution_count": null,
   "metadata": {},
   "outputs": [],
   "source": [
    "math.ceil(3.01)"
   ]
  },
  {
   "cell_type": "code",
   "execution_count": null,
   "metadata": {},
   "outputs": [],
   "source": [
    "# Algunas operaciones matemáticas integradas\n",
    "\n",
    "# Sumatorio integrado\n",
    "n = [0.9999999, 1, 2, 3]\n",
    "sum(n)"
   ]
  },
  {
   "cell_type": "code",
   "execution_count": null,
   "metadata": {},
   "outputs": [],
   "source": [
    "#Valor absoluto\n",
    "abs(-10)"
   ]
  },
  {
   "cell_type": "code",
   "execution_count": null,
   "metadata": {},
   "outputs": [],
   "source": [
    "# Que pasa aqui?\n",
    "abs([1,2,-3,-5,-80])"
   ]
  },
  {
   "cell_type": "code",
   "execution_count": null,
   "metadata": {},
   "outputs": [],
   "source": [
    "# Sumatorio mejorado para números reales\n",
    "math.fsum(n) "
   ]
  },
  {
   "cell_type": "code",
   "execution_count": null,
   "metadata": {},
   "outputs": [],
   "source": [
    "math.pow(2, 3)  # Potencia con flotante "
   ]
  },
  {
   "cell_type": "code",
   "execution_count": null,
   "metadata": {},
   "outputs": [],
   "source": [
    "2 ** 3  # Potencia directa"
   ]
  },
  {
   "cell_type": "code",
   "execution_count": null,
   "metadata": {},
   "outputs": [],
   "source": [
    "math.sqrt(9)  # Raíz cuadrada (square root)"
   ]
  },
  {
   "cell_type": "code",
   "execution_count": null,
   "metadata": {},
   "outputs": [],
   "source": [
    "help(math)"
   ]
  },
  {
   "cell_type": "markdown",
   "metadata": {},
   "source": [
    "## Random\n",
    "\n",
    "Librería muy importante para generar números y valores aleatorios"
   ]
  },
  {
   "cell_type": "code",
   "execution_count": null,
   "metadata": {},
   "outputs": [],
   "source": [
    "import random as rd\n",
    "\n",
    "rd.random()  # Número aleatorio entre 0 y 1"
   ]
  },
  {
   "cell_type": "code",
   "execution_count": null,
   "metadata": {},
   "outputs": [],
   "source": [
    "rd.uniform(1,10) # Flotante aleatorio >= 1 y <10.0"
   ]
  },
  {
   "cell_type": "code",
   "execution_count": null,
   "metadata": {},
   "outputs": [],
   "source": [
    "rd.randrange(10) # Entero aleatorio de 0 a 9, 10 excluído"
   ]
  },
  {
   "cell_type": "code",
   "execution_count": null,
   "metadata": {},
   "outputs": [],
   "source": [
    "rd.randrange(0,101) # Entero aleatorio de 0 a 100"
   ]
  },
  {
   "cell_type": "code",
   "execution_count": null,
   "metadata": {},
   "outputs": [],
   "source": [
    "rd.randrange(0,101,2) # Entero aleatorio de 0 a 100 cada 2 números, múltiples de 2"
   ]
  },
  {
   "cell_type": "code",
   "execution_count": null,
   "metadata": {},
   "outputs": [],
   "source": [
    "c = [1 , 4 , 5 , 6 , 7, 8 , 234]\n",
    "rd.choice(c) # elemento aleatorio"
   ]
  },
  {
   "cell_type": "code",
   "execution_count": null,
   "metadata": {},
   "outputs": [],
   "source": [
    "c = 'Now, I am become Death, the destroyer of worlds'\n",
    "rd.choice(c) # letra aleatoria"
   ]
  },
  {
   "cell_type": "code",
   "execution_count": null,
   "metadata": {},
   "outputs": [],
   "source": [
    "#Lo anterior puede ser muy util para generar una cadena aleatoria\n",
    "\n",
    "import string as s\n",
    "\n",
    "letras = s.ascii_lowercase\n",
    "\n",
    "print(f\"letras abecedario = {letras}\")"
   ]
  },
  {
   "cell_type": "code",
   "execution_count": null,
   "metadata": {},
   "outputs": [],
   "source": [
    "# una lista de 10 elementos, cada uno es una letra del abcdario\n",
    "lst = [ rd.choice(letras) for x in range(10)]\n",
    "\n",
    "# Una cadena de la lista anterior\n",
    "print(\"\".join(lst))"
   ]
  },
  {
   "cell_type": "code",
   "execution_count": null,
   "metadata": {},
   "outputs": [],
   "source": [
    "#Se puede barajar una lista en sitio!\n",
    "l = [i for i in range(10)]"
   ]
  },
  {
   "cell_type": "code",
   "execution_count": null,
   "metadata": {},
   "outputs": [],
   "source": [
    "rd.shuffle(l)\n",
    "print( l )"
   ]
  },
  {
   "cell_type": "markdown",
   "metadata": {},
   "source": [
    "## IO\n",
    "\n",
    "Uno de los temas mas comunes es interactuar con archivos. Para esto Python ofrece maneras muy fáciles de interactuar con ellos"
   ]
  },
  {
   "cell_type": "code",
   "execution_count": null,
   "metadata": {},
   "outputs": [],
   "source": [
    "# Abrir un archivo\n",
    "\n",
    "ruta = \"d:/git/notebooks/python/curso/red_riding_hood_excerpt.txt\"\n",
    "\n",
    "fle = open(ruta)\n",
    "\n",
    "for linea in fle:\n",
    "    print(linea.replace(\"\\n\",\"\"))\n",
    "    \n",
    "fle.close()"
   ]
  },
  {
   "cell_type": "code",
   "execution_count": null,
   "metadata": {},
   "outputs": [],
   "source": [
    "# Escribir en un archivo!\n",
    "ruta =  \"d:/git/TMP_FILES/nuevo.txt\"\n",
    "\n",
    "fle = open(ruta , \"w\")\n",
    "\n",
    "for r in range(1000):\n",
    "    fle.write(\"esta es la linea {}\\n\".format(r))\n",
    "    \n",
    "fle.close()"
   ]
  },
  {
   "cell_type": "markdown",
   "metadata": {},
   "source": [
    "## OS \n",
    "\n",
    "Permite muchas funciones para interactuar con el sistema operativo"
   ]
  },
  {
   "cell_type": "code",
   "execution_count": null,
   "metadata": {},
   "outputs": [],
   "source": [
    "import os\n",
    "os.getcwd()"
   ]
  },
  {
   "cell_type": "code",
   "execution_count": null,
   "metadata": {},
   "outputs": [],
   "source": [
    "os.listdir()  #lista elementos del directorio actual"
   ]
  },
  {
   "cell_type": "code",
   "execution_count": null,
   "metadata": {},
   "outputs": [],
   "source": [
    "os.listdir(\"d:\") #lista elementos de un directorio cualquiera"
   ]
  },
  {
   "cell_type": "markdown",
   "metadata": {},
   "source": [
    "### Recorrer rutas\n",
    "\n",
    "Es una tarea comun, recorrer a través de un directorio, es decir, visitar cada archivo o carpeta y verificar si hay un archivo en el directorio, y luego quizás hacer algo con ese archivo. Por lo general, recorrer de forma recursiva a través de cada archivo y carpeta en un directorio sería bastante difícil de programar, pero afortunadamente el módulo os tiene un método directo para este llamado os.walk (). Vamos a explorar cómo funciona."
   ]
  },
  {
   "cell_type": "code",
   "execution_count": null,
   "metadata": {},
   "outputs": [],
   "source": [
    "path = \"d:/git/TMP_FILES/\"\n",
    "\n",
    "for directorio , sub_dirs , archs in os.walk( path ):\n",
    "    \n",
    "    print(\"Actualmente mirando el directorio: \"+ directorio)\n",
    "    print('\\n')\n",
    "    print(\"Subdirectorios son: \")\n",
    "    for sub_fold in sub_dirs:\n",
    "        print(\"\\t Subfolder: \"+sub_fold )\n",
    "    \n",
    "    print('\\n')\n",
    "    \n",
    "    print(\"Los Archivos son: \")\n",
    "    for f in archs:\n",
    "        print(\"\\t File: \"+f)\n",
    "    print('\\n')\n",
    "    \n"
   ]
  },
  {
   "cell_type": "markdown",
   "metadata": {},
   "source": [
    "# Gracias!!!!"
   ]
  }
 ],
 "metadata": {
  "kernelspec": {
   "display_name": "Python 3",
   "language": "python",
   "name": "python3"
  },
  "language_info": {
   "codemirror_mode": {
    "name": "ipython",
    "version": 3
   },
   "file_extension": ".py",
   "mimetype": "text/x-python",
   "name": "python",
   "nbconvert_exporter": "python",
   "pygments_lexer": "ipython3",
   "version": "3.8.5"
  }
 },
 "nbformat": 4,
 "nbformat_minor": 2
}

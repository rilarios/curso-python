{
 "cells": [
  {
   "cell_type": "markdown",
   "metadata": {},
   "source": [
    "\n",
    "# Principios de Python\n",
    "\n",
    "En cada una de las celdas que siguen use la combinación **Ctrl + Enter** para evaluar el contenido de la celda y visualizar el resultado de la última expresión en la celda.\n",
    "\n",
    "También puede usar **Alt + Enter** para evaluar la celda e insertar una celda vacía debajo.\n",
    "\n",
    "## La función *print()*\n",
    "La función de *print()* muestra la cadena de valor dentro de los paréntesis en la pantalla."
   ]
  },
  {
   "cell_type": "code",
   "execution_count": null,
   "metadata": {},
   "outputs": [],
   "source": [
    "print('¡Hola Mundo!')\n",
    "print('¿Cual es tu nombre?')\n",
    "print('Mi edad es '+str(19))\n",
    "print('El proximo año tendré '+str(19+1))"
   ]
  },
  {
   "cell_type": "markdown",
   "metadata": {},
   "source": [
    "## Operadores entre valores/variables:\n",
    "*  **+** Suma.  Tambien sirve para concatenar cadenas de texto\n",
    "*  **-** Resta\n",
    "*  **\\*** Multiplicación\n",
    "*  **/** División\n",
    "*  **//** división Entera\n",
    "*  **%** Módulo\n",
    "*  **\\*\\*** Potencia\n"
   ]
  },
  {
   "cell_type": "code",
   "execution_count": null,
   "metadata": {},
   "outputs": [],
   "source": [
    "print('Penny..'*5)"
   ]
  },
  {
   "cell_type": "code",
   "execution_count": null,
   "metadata": {},
   "outputs": [],
   "source": [
    "Nombre='James'\n",
    "Apellido='Bond'\n",
    "print('Mi nombre es ' + Apellido + ', ' + Nombre + ' ' + Apellido + '.')"
   ]
  },
  {
   "cell_type": "code",
   "execution_count": null,
   "metadata": {},
   "outputs": [],
   "source": [
    "print('Mi nombre es %s, %s %s.' % (Apellido, Nombre, Apellido))"
   ]
  },
  {
   "cell_type": "markdown",
   "metadata": {},
   "source": [
    "# Asignación de Variables y elementos básicos del lenguaje\n"
   ]
  },
  {
   "cell_type": "code",
   "execution_count": null,
   "metadata": {},
   "outputs": [],
   "source": [
    "# Esto es un comentario\n",
    "# el comentario sigue\n",
    "# y sigue\n",
    "# Un comentario no tiene ningún efecto (no produce ningún resultado) solo se usa\n",
    "# para documentar."
   ]
  },
  {
   "cell_type": "code",
   "execution_count": null,
   "metadata": {},
   "outputs": [],
   "source": [
    "# Asignación de variables\n",
    "una_variable_entera = 5\n",
    "una_variable_float =  2.3 \n",
    "una_cadena = \"texto que se pone entre comillas\"\n",
    "un_booleano = True \n",
    "una_variable_nula = None  "
   ]
  },
  {
   "cell_type": "code",
   "execution_count": null,
   "metadata": {},
   "outputs": [],
   "source": [
    "# mostrar el contenido de una variable o el resultado de una expresión:\n",
    "\n",
    "print( una_cadena )\n",
    "\n",
    "print( 2 + 5 - 3 )"
   ]
  },
  {
   "cell_type": "markdown",
   "metadata": {},
   "source": [
    "Para saber cual es el tipo de una variable solo se debe usar la función **type()**"
   ]
  },
  {
   "cell_type": "code",
   "execution_count": null,
   "metadata": {},
   "outputs": [],
   "source": [
    "print( type( una_variable_entera ) )\n",
    "print( type( una_cadena ) )\n",
    "print( type( una_variable_nula ) )"
   ]
  },
  {
   "cell_type": "code",
   "execution_count": null,
   "metadata": {},
   "outputs": [],
   "source": [
    "# Siempre es posible reasignar una variable, es decir,\n",
    "# el valor asignado (bound) a una variable se puede cambiar en cualquier momento, incluso a otro tipo de datos\n",
    "\n",
    "una_variable_float = \"esto en realidad no es un float\"  \n",
    "print( una_variable_float )"
   ]
  },
  {
   "cell_type": "markdown",
   "metadata": {},
   "source": [
    "**Ejercicio**:  escriba código que imprima los valores de las  expresiones:\n",
    "*  7 / 2\n",
    "*  7 // 2\n",
    "y luego imprima los tipos de las mismas."
   ]
  },
  {
   "cell_type": "code",
   "execution_count": null,
   "metadata": {},
   "outputs": [],
   "source": [
    "\n",
    "print(  )\n",
    "print( type() )\n",
    "\n",
    "\n",
    "\n",
    "print(  )\n",
    "print( type() )"
   ]
  },
  {
   "cell_type": "markdown",
   "metadata": {},
   "source": [
    "# Tipos de Datos\n",
    "\n",
    "Así como todos los lenguajes de programación, python tiene tipos de datos para representar la información que procesa.\n",
    "\n",
    "la variables de python se definen por el valor que contienen más no por la definición del mismo.  Veámos un ejemplo:"
   ]
  },
  {
   "cell_type": "code",
   "execution_count": null,
   "metadata": {},
   "outputs": [],
   "source": [
    "a = 2\n",
    "print(type(a))\n",
    "\n",
    "a = \"esto es una cadena de caracteres\"\n",
    "print(type(a))"
   ]
  },
  {
   "cell_type": "markdown",
   "metadata": {},
   "source": [
    "Como puede observar, el tipo de la variable a en una primera ocasión es **int** (entero), mientras que en el segundo caso es **str** (string).  El tipo de cada variable está definido por el valor al cual se le ha asignado.  A continuación se muestran los tipos de datos básicos en python"
   ]
  },
  {
   "cell_type": "markdown",
   "metadata": {},
   "source": [
    "## Números\n",
    "\n",
    "Los números enteros en python se representan mediante **int** mientras aquellos números que poseen decimales son **float**. En python 2.7 existe un tipo de dato llamado long (enteros grandes).  Pero en versión 3.7, int toma ambos tipos de datos (enteros pequeños y grandes).\n",
    "\n",
    "Entre números se pueden hacer muchas operaciones fácilmente, tales como suma, resta, división, poencia, módulo."
   ]
  },
  {
   "cell_type": "code",
   "execution_count": null,
   "metadata": {},
   "outputs": [],
   "source": [
    "# suma\n",
    "a = 2 + 2\n",
    "print(type(a))\n",
    "\n",
    "# resta\n",
    "b = 2.7 - 3.5\n",
    "print(type(b))\n",
    "\n",
    "# división \n",
    "c = 6/3\n",
    "print(type(c))"
   ]
  },
  {
   "cell_type": "markdown",
   "metadata": {},
   "source": [
    "Note que en la división, el tipo de dato de la variable siempre es **float**, asi el resultado sea un valor entero.   Además de la división normal también se encuentra la división floor. (en lugar del símbolo **/** , se usa doble:"
   ]
  },
  {
   "cell_type": "code",
   "execution_count": null,
   "metadata": {},
   "outputs": [],
   "source": [
    "## compare con la operación \"floor\" división sin decimales\n",
    "d = 7 / 5\n",
    "print(\"División normal \" + str(d))\n",
    "print(type(d))\n",
    "\n",
    "d = 7 // 5\n",
    "print(\"División floor \" + str(d))\n",
    "print(type(d))\n",
    "\n",
    "d = 7 % 5\n",
    "print(\"Operación Módulo \" + str(d))\n",
    "print(type(d))"
   ]
  },
  {
   "cell_type": "code",
   "execution_count": null,
   "metadata": {},
   "outputs": [],
   "source": [
    "# multiplicación\n",
    "\n",
    "a = 8 * 8\n",
    "print(a)\n",
    "print(type(a))\n",
    "\n",
    "# Potencia\n",
    "\n",
    "a = 8 ** 8\n",
    "print(a)\n",
    "print(type(a))"
   ]
  },
  {
   "cell_type": "markdown",
   "metadata": {},
   "source": [
    "Las operaciones entre numeros siempre retornaran el tipo de dato que pueda albergar el valor resultante, por ejemplo\n",
    "\n",
    "2 + 3 + 4.5\n",
    "\n",
    "siempre será un tipo float, ya que alberga a los enteros y a los decimales."
   ]
  },
  {
   "cell_type": "code",
   "execution_count": null,
   "metadata": {},
   "outputs": [],
   "source": [
    "a = 2 + 3 + 4 + 5\n",
    "print(type(a))\n",
    "\n",
    "a = 2 + 3 + 4.5\n",
    "print(type(a))"
   ]
  },
  {
   "cell_type": "markdown",
   "metadata": {},
   "source": [
    "## Strings \n",
    "\n",
    "Adicional a números , python puede representar cadenas de caracteres como strings (tipo de dato : **str**).  Los strings pueden ser representados de muchas maneras como se muestra a continuación:"
   ]
  },
  {
   "cell_type": "code",
   "execution_count": null,
   "metadata": {},
   "outputs": [],
   "source": [
    "a = 'texto con comilla sencilla'\n",
    "b = \"texto con comilla doble\"\n",
    "c = \"\"\"\n",
    "    la triple comilla me permite definir textos\n",
    "    que se separen\n",
    "    en \n",
    "    varias líneas\n",
    "\"\"\"\n",
    "\n",
    "print(\"los tipos de datos son {0}, {1}, {2}\".format(type(a)  , type(b) , type(c)) )"
   ]
  },
  {
   "cell_type": "markdown",
   "metadata": {},
   "source": [
    "Como puede observar las 3 variables anteriores quedan bien definidas con el mismo tipo de dato.  Así mismo puede ver la función format la cual se explicará en detalle más adelante.  Si desea incluir una comilla dentro de una cadena definida por comillas, use el caracter de escape **\\** :"
   ]
  },
  {
   "cell_type": "code",
   "execution_count": null,
   "metadata": {},
   "outputs": [],
   "source": [
    "a = \"Texto con comilla doble y con \\\" dentro del texto\"\n",
    "print(a)"
   ]
  },
  {
   "cell_type": "code",
   "execution_count": null,
   "metadata": {},
   "outputs": [],
   "source": [
    "# El operador +  sirve para concatenar cadenas \n",
    "print(' \"concatenación\" ' + \"de\" + \" cadenas.\\tPor: \" + una_cadena)  \n"
   ]
  },
  {
   "cell_type": "markdown",
   "metadata": {},
   "source": [
    "Note que en el texto se encuentra el caracter **\\\\t**.  PAra encontrar una lista de este tipo de caracteres especiales puede referirse a este [Cheat Sheet](https://rosettacode.org/wiki/Special_characters#Python) "
   ]
  },
  {
   "cell_type": "markdown",
   "metadata": {},
   "source": [
    "La concatenación de textos se hace con el operador **\\+**, sin embargo a diferencia de otros lenguajes, el operador concatena solo strings, así que hay que usar un **cast** a string antes de concatenar:"
   ]
  },
  {
   "cell_type": "code",
   "execution_count": null,
   "metadata": {},
   "outputs": [],
   "source": [
    "# Esto deebe generar un error\n",
    "print(\"cadena más el número \" + 25)"
   ]
  },
  {
   "cell_type": "code",
   "execution_count": null,
   "metadata": {},
   "outputs": [],
   "source": [
    "# Esto no genera un Error\n",
    "print(\"cadena más el número \" + str(25))"
   ]
  },
  {
   "cell_type": "markdown",
   "metadata": {},
   "source": [
    "Las cadenas de texto internamente se representan como listas de caracteres individuales, por lo que acceder a un caracter o a un subconjunto de caracteres se hace por medio de sintaxis de corchetes, por ejemplo:"
   ]
  },
  {
   "cell_type": "code",
   "execution_count": null,
   "metadata": {},
   "outputs": [],
   "source": [
    "# para extraer un caracter de la cadena \n",
    "# Recordar que las listas estan indexadas por 0 es decir, comienzan por cero hasta len(cadena)-1\n",
    "print( \"Texto Original: \"+ una_cadena)\n",
    "print( \"tamaño de texto: \" + str(len(una_cadena)))\n",
    "print( una_cadena[0] )  # primer caracter \n",
    "print( una_cadena[1] )  # segundo caracter \n",
    "print( una_cadena[2] )  # tercer caracter\n"
   ]
  },
  {
   "cell_type": "code",
   "execution_count": null,
   "metadata": {},
   "outputs": [],
   "source": [
    "# Extraer una subcadena (también conocido como slice o tajada)\n",
    "print( una_cadena[7:21] ) "
   ]
  },
  {
   "cell_type": "code",
   "execution_count": null,
   "metadata": {},
   "outputs": [],
   "source": [
    "# Esto genera error (porque?)\n",
    "print( una_cadena[32] ) "
   ]
  },
  {
   "cell_type": "code",
   "execution_count": null,
   "metadata": {},
   "outputs": [],
   "source": [
    "# Se puede extraer caracteres o subconjunto de caracteres y asignarlos a variables\n",
    "c1 = una_cadena[0] \n",
    "print( c1 )\n",
    "c2 = una_cadena[7:21]\n",
    "(c1, c2) # construyo una tupla para recoger dos resultados"
   ]
  },
  {
   "cell_type": "markdown",
   "metadata": {},
   "source": [
    "Los textos/strings tienen muchas funciones útiles a la hora de trabajar con ellos, tales como manejo de mayúsculas, minúsculas, separar palabras, eliminar espacios entre muchas otras.   Por ejemplo:"
   ]
  },
  {
   "cell_type": "code",
   "execution_count": null,
   "metadata": {},
   "outputs": [],
   "source": [
    "# Hay muchas funciones predefinidas en para cadenas: \n",
    "\n",
    "una_cadena = \"\"\"La masacre de las bananeras fue una matanza de los trabajadores de la United Fruit Company \\\n",
    "que se produjo entre el 5 y el 6 de diciembre de 1928 en el municipio de Ciénaga, Magdalena \\\n",
    "cerca de Santa Marta (Colombia). \n",
    "\"\"\"\n",
    "\n",
    "print( una_cadena.lower() )\n",
    "print( una_cadena.upper() )\n",
    "\n",
    "#separar el texto por un caracter o cadena de caracteres\"\n",
    "print( una_cadena.split(\" \"))\n",
    "\n",
    "print()\n",
    "\n",
    "# Eliminación de espacios\n",
    "una_cadena2 = \"\"\"    esta cadena tiene espacios atras y adelante    \"\"\"\n",
    "print( \">\" +  una_cadena2.strip() + \"<\")\n",
    "print( \">\" + una_cadena2.rstrip() + \"<\")\n",
    "print( \">\" + una_cadena2.lstrip() + \"<\")"
   ]
  },
  {
   "cell_type": "markdown",
   "metadata": {},
   "source": [
    "Uno puede hacer uniones con listas de textois, por ejemplo cuando quiere separar una lista por comas, usando la funcion **join**.  (imagínese que es una función inversa al **split**:"
   ]
  },
  {
   "cell_type": "code",
   "execution_count": null,
   "metadata": {},
   "outputs": [],
   "source": [
    "lista_cadenas = [\"texto1\" , \"texto2\" , \"texto3\", \"texto4\"]\n",
    "\n",
    "a = \",\".join(lista_cadenas)\n",
    "print(a)"
   ]
  },
  {
   "cell_type": "markdown",
   "metadata": {},
   "source": [
    "Usted puede encontrar un subconjunto de caracteres en otro utilizando la función **find()**.  La función devuelve la posición del texto.  Si no encuentra la cadena el resultado es -1."
   ]
  },
  {
   "cell_type": "code",
   "execution_count": null,
   "metadata": {},
   "outputs": [],
   "source": [
    "cad = \"Un número indefinido de trabajadores murieron después de que el gobierno de Miguel Abadía Méndez decidió poner fin a una huelga de un mes organizada por el sindicato de los trabajadores que buscaban garantizar mejores condiciones de trabajo\"\n",
    "\n",
    "pos1 = cad.find(\"fin\")\n",
    "pos2 = cad.find(\"Fin\")\n",
    "\n",
    "print(pos1 , pos2)"
   ]
  },
  {
   "cell_type": "markdown",
   "metadata": {},
   "source": [
    "**Ejercicio:** Utilice los conceptos antes descritos para que el texto definido en la celda de abajo quede con todas las palabras con la primera letra de la palabra quede en mayósculas y el resto en minúsculas (puntos adicionales si lo puede hacer en una línea):"
   ]
  },
  {
   "cell_type": "code",
   "execution_count": null,
   "metadata": {},
   "outputs": [],
   "source": [
    "texto = \"El 28 de noviembre de 1928 estalló una gran huelga en la zona bananera de Ciénaga, una huelga masiva jamás vista en el mundo. Más de 25 000 trabajadores de las plantaciones se negaron a cortar los bananos producidos por la United Fruit Company y por productores nacionales bajo contrato con la compañía.\"\n",
    "print(texto)\n",
    "\n",
    "\n",
    "nuevo_txt = # Ponga aqui su respuesta\n",
    "print()\n",
    "print(nuevo_txt)"
   ]
  },
  {
   "cell_type": "markdown",
   "metadata": {},
   "source": [
    "**Ejercicio**: Escriba código que imprima una cadena formada los primeros tres caracteres de la cadena \"_La increible y triste historia de la cándida eréndira_\" concatenados  con los últimos 8 caracteres de la misma cadena.\n"
   ]
  },
  {
   "cell_type": "code",
   "execution_count": null,
   "metadata": {},
   "outputs": [],
   "source": [
    "texto = \"La increíble y triste historia de la cándida Eréndira y de su abuela desalmada\"\n",
    "print(texto)\n",
    "\n",
    "\n",
    "nuevo_txt = # Ponga aqui su respuesta\n",
    "print()\n",
    "print(nuevo_txt)"
   ]
  },
  {
   "cell_type": "markdown",
   "metadata": {},
   "source": [
    "### Formato de texto\n",
    "Aunque los string solo se pueden concatenar con string, existe la funcion **format()** la cual permite añadir valores al texto a partir de expresiónes o de variables.  Esto permite poder definir, por ejemplo, plantillas de texto que cambian con valores de la ejecución.  Algúnos ejemplos:\n"
   ]
  },
  {
   "cell_type": "code",
   "execution_count": null,
   "metadata": {},
   "outputs": [],
   "source": [
    "txt1 = \"Éste es un texto con {} caracteres\"\n",
    "print( txt1.format(len(txt1))  )\n",
    "print()\n",
    "\n",
    "txt2 = \"Select * from tabla1 where campo1 = {} and campo2 = '{}'\"\n",
    "print( txt2.format(5 , \"BOGOTÁ\") )"
   ]
  },
  {
   "cell_type": "markdown",
   "metadata": {},
   "source": [
    "Note que el reemplazo se hace en órden del formato, dado que no estamos especificando ningun tiñpo de orden en el texto.  Esto se puede índicar por medio de indices en los parámetros del texto:"
   ]
  },
  {
   "cell_type": "code",
   "execution_count": null,
   "metadata": {},
   "outputs": [],
   "source": [
    "txt1 = \"\"\"Patria Boba es el período de la historia de Colombia comprendido entre la promulgación del Acta de \\\n",
    "Independencia del 20 de {2} de {1} y el inicio del Régimen del Terror en {0}. Los eventos posteriores \\\n",
    "al grito de independencia estuvieron signados por la división, los conflictos entre provincias, \\\n",
    "las guerras intestinas y el desorden institucional. \"\"\"\n",
    "\n",
    "print(txt1)\n",
    "print()\n",
    "\n",
    "start = 1810\n",
    "end = 1816\n",
    "month = \"Julio\"\n",
    "\n",
    "print( txt1.format(end , start , month ) )"
   ]
  },
  {
   "cell_type": "markdown",
   "metadata": {},
   "source": [
    "Adicionalmente se pueden especificar nombres de variables y formatearlas.  Mire como cambia el texto original, que en lugar de tener índices, contiene dentro de las llaves, nombres de variables:"
   ]
  },
  {
   "cell_type": "code",
   "execution_count": null,
   "metadata": {},
   "outputs": [],
   "source": [
    "txt1 = \"\"\"Patria Boba es el período de la historia de Colombia comprendido entre la promulgación del Acta de \\\n",
    "Independencia del 20 de {month} de {start} y el inicio del Régimen del Terror en {end}. Los eventos posteriores \\\n",
    "al grito de independencia estuvieron signados por la división, los conflictos entre provincias, \\\n",
    "las guerras intestinas y el desorden institucional. \"\"\"\n",
    "\n",
    "print(txt1)\n",
    "print()\n",
    "\n",
    "inicio = 1810\n",
    "fin = 1816\n",
    "mes = \"Julio\"\n",
    "\n",
    "print( txt1.format(start = inicio , end = fin , month = mes) )"
   ]
  },
  {
   "cell_type": "markdown",
   "metadata": {},
   "source": [
    "Un texto podría tener muchísimas variables por lo que especificar las variables una a una en la función format podría no ser lo ideal.  Es posible utilizar un diccionario (tipo de datos que vemos más adelante) para enviar todos los valores de las variables de una vez!"
   ]
  },
  {
   "cell_type": "code",
   "execution_count": null,
   "metadata": {},
   "outputs": [],
   "source": [
    "pies = 194\n",
    "\n",
    "dicc = { \"start\" : inicio,\n",
    "         \"end\" : fin ,\n",
    "         \"month\" : mes ,\n",
    "         \"otra_var\" : 3874239\n",
    "       }\n",
    "\n",
    "print( txt1.format(**dicc) )"
   ]
  },
  {
   "cell_type": "markdown",
   "metadata": {},
   "source": [
    "## Listas\n",
    "Adicionalmente a los tipos básicos, python tiene tipos de datos compuestos, los cuales se definen como tipos de tatos compuestos de otros tipos de datos (Un nombre más adecuado sería **estructuras de datos**).  Una de éstas estructuras y tal vez la más común y versátil es la lista.\n",
    "\n",
    "Una lista se define como una lista de valores separados por comas entre corchetes.  Los valores dentro de la lista pueden ser de distintos tipos:"
   ]
  },
  {
   "cell_type": "code",
   "execution_count": null,
   "metadata": {},
   "outputs": [],
   "source": [
    "una_lista = [ 17, \"segundo elemento\", [ \"a\", \"b\"], 42.5 ]\n",
    "una_lista"
   ]
  },
  {
   "cell_type": "markdown",
   "metadata": {},
   "source": [
    "Para acceder al valor de un elemento, se usa el corchete en la variable.  Asi mismo puede utilizar el _slicing_ como se vió en la sección de strings:\n"
   ]
  },
  {
   "cell_type": "code",
   "execution_count": null,
   "metadata": {},
   "outputs": [],
   "source": [
    "l1 = una_lista[1]\n",
    "l2 = una_lista[ 2:4 ]\n",
    "print(l1)\n",
    "print(l2)"
   ]
  },
  {
   "cell_type": "markdown",
   "metadata": {},
   "source": [
    "Una lista puede contener cualquier tipo de datos, incluyendo otras listas y tipos complejos:"
   ]
  },
  {
   "cell_type": "code",
   "execution_count": null,
   "metadata": {},
   "outputs": [],
   "source": [
    "anidada = [ [1,2,3], [4,5,6,8] , {\"a\":1,\"b\":3} ]\n",
    "anidada[1][3]"
   ]
  },
  {
   "cell_type": "code",
   "execution_count": null,
   "metadata": {},
   "outputs": [],
   "source": [
    "# los índices pueden ser negativos, obseve el resultado de lo siguiente:\n",
    "cuadrados = [1,4,9,16,25]\n",
    "cuadrados[-1]"
   ]
  },
  {
   "cell_type": "code",
   "execution_count": null,
   "metadata": {},
   "outputs": [],
   "source": [
    "# también se puede utilizar slicing con negativos:\n",
    "cuadrados[-3:]"
   ]
  },
  {
   "cell_type": "code",
   "execution_count": null,
   "metadata": {},
   "outputs": [],
   "source": [
    "# Se pueden reemplazar los valores aludiendo as u indice:\n",
    "cuadrados = [1,4,9,17,25]\n",
    "\n",
    "# 17 está mal, reemplacemos\n",
    "cuadrados[3] = 4 ** 2\n",
    "cuadrados"
   ]
  },
  {
   "cell_type": "markdown",
   "metadata": {},
   "source": [
    "Se puede definir una lista vacía e ir agregando valores con la función **append()**.  "
   ]
  },
  {
   "cell_type": "code",
   "execution_count": null,
   "metadata": {},
   "outputs": [],
   "source": [
    "vacia = []\n",
    "\n",
    "cuatro = 4.0\n",
    "\n",
    "vacia.append(1)\n",
    "vacia.append(2)\n",
    "vacia.append(\"3\")\n",
    "vacia.append( cuatro )\n",
    "\n",
    "vacia"
   ]
  },
  {
   "cell_type": "markdown",
   "metadata": {},
   "source": [
    "Aunque las cadenas de texto se comportan como listas, son inmutables , es decir, no se pueden modificar de la misma manera que una lista.  La última expresión del cuadro siguiente genera error."
   ]
  },
  {
   "cell_type": "code",
   "execution_count": null,
   "metadata": {},
   "outputs": [],
   "source": [
    "\n",
    "tx1 = \"\"\"Gaitán se forjó una reputación como orador y defensor de causas populares, \\\n",
    "que consolidó gracias a sus intervenciones en el debate sobre la Masacre de las Bananeras de 1928.\"\"\"\n",
    "\n",
    "print( tx1[10] )\n",
    "print( tx1[7:35] )\n",
    "print( tx1[-5:] )\n",
    "\n",
    "# Esta expresión genera error\n",
    "tx1[10] = \"e\""
   ]
  },
  {
   "cell_type": "code",
   "execution_count": null,
   "metadata": {},
   "outputs": [],
   "source": [
    "#para saber el tamaño de una lista se usa la función len\n",
    "len(tx1)\n",
    "\n",
    "#para recorrer una lista se puede usar el comando for:\n",
    "for elem  in vacia : \n",
    "    print( \"elemento : {0}\".format(elem))"
   ]
  }
 ],
 "metadata": {
  "kernelspec": {
   "display_name": "Python 3",
   "language": "python",
   "name": "python3"
  },
  "language_info": {
   "codemirror_mode": {
    "name": "ipython",
    "version": 3
   },
   "file_extension": ".py",
   "mimetype": "text/x-python",
   "name": "python",
   "nbconvert_exporter": "python",
   "pygments_lexer": "ipython3",
   "version": "3.8.5"
  }
 },
 "nbformat": 4,
 "nbformat_minor": 2
}

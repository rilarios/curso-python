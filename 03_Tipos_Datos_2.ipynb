{
 "cells": [
  {
   "cell_type": "markdown",
   "metadata": {},
   "source": [
    "# Tipos de Datos 2\n",
    "\n",
    "Adicional a los tipos de datos básicos, python cuenta con tipos de datos compuestros, es decir, estructuras que contienen tipos de datos senillos para funciones específicas.\n",
    "\n",
    "Dentro de los tipos  de datos compuestos podemos encontrar:\n",
    "\n",
    "* Listas\n",
    "* Diccionarios\n",
    "* Tuplas\n",
    "* Conjuntos \n",
    "* Otros casos"
   ]
  },
  {
   "cell_type": "markdown",
   "metadata": {},
   "source": [
    "## Listas\n",
    "\n",
    "Aunque en el notebook anterior se había explicado algunos conceptos de lista, se explicarán otras funciones importantes. "
   ]
  },
  {
   "cell_type": "code",
   "execution_count": null,
   "metadata": {},
   "outputs": [],
   "source": [
    "# Inserción de registros en una posición:\n",
    "lista = [1 , 2 , 3, 4]\n",
    "lista.insert(2,\"a\")\n",
    "print(lista)"
   ]
  },
  {
   "cell_type": "code",
   "execution_count": null,
   "metadata": {},
   "outputs": [],
   "source": [
    "# remueve un elemento dado su valor:\n",
    "lista.remove(\"a\")\n",
    "print(lista)"
   ]
  },
  {
   "cell_type": "code",
   "execution_count": null,
   "metadata": {},
   "outputs": [],
   "source": [
    "#que pasa cuando hay varios elementos con el mismo valor?\n",
    "lista = [1 , 2, 3 , 4 , 4, 5 , 4]\n",
    "lista.remove(4)\n",
    "print(lista)"
   ]
  },
  {
   "cell_type": "code",
   "execution_count": null,
   "metadata": {},
   "outputs": [],
   "source": [
    "lista = [ 1 , 2 , 3 , 4 , 5 , 6 , 7 , 8 , 9 , 10]\n",
    "\n",
    "#Algunas funciones útiles adicionales\n",
    "\n",
    "# POP: retira un elemento de la posición y lo devuelve\n",
    "el = lista.pop(5)\n",
    "print(lista)\n",
    "print(el)\n",
    "print()\n",
    "\n",
    "# Si no se pone un elemento devuelve el último\n",
    "el = lista.pop()\n",
    "print(lista)\n",
    "print(el)\n",
    "print()\n",
    "\n",
    "# COUNT: cuenta el numero de ocurrencias de un valor en la lista\n",
    "print(lista.count(10))\n",
    "print()"
   ]
  },
  {
   "cell_type": "code",
   "execution_count": null,
   "metadata": {},
   "outputs": [],
   "source": [
    "lista = [ 1 , 2 , 3 , 1 , 5 , 10 , 7 , 8 , 9 , 11]\n",
    "\n",
    "# SORT: Ordena los elementos de una lista (puede ser en reversa)\n",
    "lista.sort()\n",
    "print( lista )\n",
    "print()\n",
    "\n",
    "lista.sort( reverse = True)\n",
    "print( lista )\n",
    "print()\n",
    "\n",
    "# copia los valores de una lista \n",
    "# ambas expresiones son iguales!\n",
    "\n",
    "lista2 = lista[:] # Usando slicing\"\n",
    "lista3 = lista.copy() \n",
    "\n",
    "print()\n",
    "print(lista2)\n",
    "print(lista3)"
   ]
  },
  {
   "cell_type": "markdown",
   "metadata": {},
   "source": [
    "### List Comprehension\n",
    "\n",
    "Python provee una forma concisa de crear listas.  La aplicación común es generar una lista donde cada elemento del resultado de una operación, que surge a partir de otras listas o a crear un subconjunto aplicando una condición.\n",
    "\n",
    "Un List comprehension consiste en corchetes que contienen una expresión, seguida por una clausula for, luego cero o más sentencias de for o condicionales.\n",
    "\n",
    "Suponga que se quiere calcular los cuadrados de una lista.  Generalmente uno podría usar un ciclo tipo for:\n"
   ]
  },
  {
   "cell_type": "code",
   "execution_count": null,
   "metadata": {},
   "outputs": [],
   "source": [
    "# range me genera una rango de enteros.  es un tipo de datos llamado iterable,\n",
    "# la lista y los diccionarios tambien son iterables.\n",
    "\n",
    "r1 = range(10)  # es lo mismo que decir range(0,10)\n",
    "\n",
    "lista = []\n",
    "for x in r1:\n",
    "    lista.append(x*x)\n",
    "    \n",
    "print(lista)\n"
   ]
  },
  {
   "cell_type": "markdown",
   "metadata": {},
   "source": [
    "Un list comprehension me permite ahorrar sintaxis en el desarrollo de listas.  La función anterior podría escribirse de la siguiente manera usando list comprehension:"
   ]
  },
  {
   "cell_type": "code",
   "execution_count": null,
   "metadata": {},
   "outputs": [],
   "source": [
    "lista = [ x*x for x in r1 ]\n",
    "print(lista)"
   ]
  },
  {
   "cell_type": "markdown",
   "metadata": {},
   "source": [
    "Se pueden definir sentencias más complejas para definir listas de tipos de datos más complejos:"
   ]
  },
  {
   "cell_type": "code",
   "execution_count": null,
   "metadata": {},
   "outputs": [],
   "source": [
    "a = [(x, y) for x in [1,2,3] for y in [3,1,4] if x != y]\n",
    "a"
   ]
  },
  {
   "cell_type": "markdown",
   "metadata": {},
   "source": [
    "A continuación se muestran muchos ejemplos de como utilizar list comprehension:"
   ]
  },
  {
   "cell_type": "code",
   "execution_count": null,
   "metadata": {},
   "outputs": [],
   "source": [
    "lista = [ 1 , 2 -4 , 8 , 9 , 10]\n",
    "\n",
    "# Usa un filtro para quitar resultados negativos:\n",
    "l1 = [ c for c in lista if c > 0]\n",
    "print(\"l1: \" + str(l1))\n",
    "\n",
    "# aplica funciones a cada elemento de una lista\n",
    "l2 = [ abs(c) for c in lista ]\n",
    "print(\"l2: \" + str(l2))\n",
    "\n",
    "# crea una lista de tuplas, tipo valor , cuadrado\n",
    "l3 = [ (c , c*c) for c in range(6)]\n",
    "print(\"l3: \" + str(l3))\n",
    "\n",
    "# Aplana una matriz!\n",
    "lista = [[1,2,3] , [4,5,6], [7,8,9]]\n",
    "l4 = [num for elem in lista for num in elem]\n",
    "print(\"l4: \" + str(l4))"
   ]
  },
  {
   "cell_type": "markdown",
   "metadata": {},
   "source": [
    "## Diccionarios\n",
    "\n",
    "Los diccionarios son estructuras de datos los cuales se estructuran de forma llave - valor.  Es decir los datos que se almacenan estan almacenados bajo una llave (puede ser un entero, un string, u otro tipo de dato).   El valor puede ser cualquier tipo de datos, incluyendo otros diccionarios.\n",
    "\n",
    "La forma de definir un diccionario vacio es:\n",
    "\n",
    "dic = {}"
   ]
  },
  {
   "cell_type": "code",
   "execution_count": null,
   "metadata": {},
   "outputs": [],
   "source": [
    "#Definamos un diccionario y le introducimos valores:\n",
    "\n",
    "dic = {}\n",
    "\n",
    "dic[\"enero\"] = 1\n",
    "dic[\"febrero\"] = 2\n",
    "dic[\"marzo\"] = 3\n",
    "\n",
    "print(dic)"
   ]
  },
  {
   "cell_type": "markdown",
   "metadata": {},
   "source": [
    "En el caso anterior, el nombre de los meses (en **string**) es la llave, y el valor es lo que ingresamos como el número del mes.  Para traer el valor de un diccionario para una llave específica, se hace referencvia de la siguiente manera:"
   ]
  },
  {
   "cell_type": "code",
   "execution_count": null,
   "metadata": {},
   "outputs": [],
   "source": [
    "# cual es el valor de marzo?\n",
    "print(dic[\"marzo\"])"
   ]
  },
  {
   "cell_type": "markdown",
   "metadata": {},
   "source": [
    "Hay que tener cuidado con tratar de traer un valor de una llave que no existe.  Por ejemplo , si quisieramos traer el valor de junio en el ejemplo anterior:"
   ]
  },
  {
   "cell_type": "code",
   "execution_count": null,
   "metadata": {},
   "outputs": [],
   "source": [
    "#Esto genera el error de llave KeyError\n",
    "print(dic[\"junio\"])"
   ]
  },
  {
   "cell_type": "markdown",
   "metadata": {},
   "source": [
    "Uno podría evitarse el KeyError, si no se está seguro que la llave que estamos utlizando exista en el diccionario, con la función **get**.  La función get me permite definir un valor por defecto a traer en el caso que la llave no exista:\n"
   ]
  },
  {
   "cell_type": "code",
   "execution_count": null,
   "metadata": {},
   "outputs": [],
   "source": [
    "# en este caso el valor por defecto es 13\n",
    "v1 = dic.get(\"enero\" , 13)\n",
    "v2 = dic.get(\"junio\" , 13)\n",
    "\n",
    "print(\"Valor 1 es {0} , valor 2 es {1}\".format(v1,v2))"
   ]
  },
  {
   "cell_type": "markdown",
   "metadata": {},
   "source": [
    "Un diccionario también es un iterable, es decir, es una estructura de datos que puede ser iterada elemento por elemento.  El diccionario no se encuentra ordenado por lo que es importante tener esto en cuenta."
   ]
  },
  {
   "cell_type": "code",
   "execution_count": null,
   "metadata": {},
   "outputs": [],
   "source": [
    "# También se pueden definir los diccionarios desde su creación mediante la siguiente sintaxis\n",
    "# En este caso, la llave es el número, y el nombre el valor\n",
    "labo = {\n",
    "    1 : \"lunes\" ,\n",
    "    2 : \"martes\" , \n",
    "    3 : \"miércoles\" ,\n",
    "    4 : \"jueves\" ,\n",
    "    5 : \"viernes\"\n",
    "}\n",
    "\n",
    "# Al ser iterable me permite definir lo siguiente (iteramos sobre las llaves del diccionario):\n",
    "for k in labo:\n",
    "    print(\"Dia {0} de la semana es {1}.\".format( k , labo[k] ) )\n",
    "\n",
    "print()    \n",
    "# O usarlo en un list comprehension\n",
    "print( [labo[k] for k in labo] )"
   ]
  },
  {
   "cell_type": "code",
   "execution_count": null,
   "metadata": {},
   "outputs": [],
   "source": [
    "# Usar la función pop me permite eliminar elementos del diccionario:\n",
    "dic = { 1: \"uno\" , 2 : \"dos\" , 3 : \"tres\" }\n",
    "\n",
    "dic.pop(3)\n",
    "print(dic)"
   ]
  },
  {
   "cell_type": "markdown",
   "metadata": {},
   "source": [
    "También existen **dict comprehensions** que permiten crear diccionarios a partir de llave-valor de una lista.  También aplicando la función dict:"
   ]
  },
  {
   "cell_type": "code",
   "execution_count": null,
   "metadata": {},
   "outputs": [],
   "source": [
    "numbs = [ 1 , 2 , 3 , 4]\n",
    "\n",
    "# usando el constructor de diccionario aplicado a una lista de tuplas (llave-valor)\n",
    "d1 = dict([ (a , a**3) for a in numbs])\n",
    "print(d1)\n",
    "\n",
    "#usando dict comprehension, note la sintaxis\n",
    "d2 = { a : a**4 for a in numbs }\n",
    "print(d2)"
   ]
  },
  {
   "cell_type": "markdown",
   "metadata": {},
   "source": [
    "### Ejercicio\n",
    "\n",
    "Use lo aprendido anteriormente tomar las estructuras definidas abajo y generar un nuevo diccionario con la combinación de todos los valores en el menor número de líneas:"
   ]
  },
  {
   "cell_type": "code",
   "execution_count": null,
   "metadata": {},
   "outputs": [],
   "source": [
    "a = { \"lunes\" : 1 , \"martes\" : 2, \"miercoles\" : 3 , \"jueves\" : 4 }\n",
    "b = { \"viernes\" : 5 , \"sabado\" : 2, \"domingo\" : 7 }\n",
    "\n",
    "c = #Escriba aqui su solución\n"
   ]
  },
  {
   "cell_type": "markdown",
   "metadata": {},
   "source": [
    "## Tuplas\n",
    "\n",
    "Una tupla es una serie de elementos separados por comas.  Son inmutables una vez creadas (a diferencia de las listas!).  cada elemento de la tupla puede ser cualquier tipo u otra tupla (pueden ser anidados:"
   ]
  },
  {
   "cell_type": "code",
   "execution_count": null,
   "metadata": {},
   "outputs": [],
   "source": [
    "# Creación de una tupla:\n",
    "t = 1 , \"segundo\" , { \"tres\" : 3 } , [4,5,6]\n",
    "print(t)\n",
    "\n",
    "#Como miro el valor de una parte de la tupla?\n",
    "print(t[0])\n",
    "\n",
    "#miremos el elemento uno a uno\n",
    "for i in range(len(t)):\n",
    "    print(\"elemento {0}: {1}\".format(i,t[i]))"
   ]
  },
  {
   "cell_type": "code",
   "execution_count": null,
   "metadata": {},
   "outputs": [],
   "source": [
    "# Una tupla  no se puede modificar\n",
    "# Esto genera error:\n",
    "\n",
    "t[4] = 10"
   ]
  },
  {
   "cell_type": "code",
   "execution_count": null,
   "metadata": {},
   "outputs": [],
   "source": [
    "# Pero los elementos mutables en una tupla si se pueden modificar:\n",
    "\n",
    "t = 1 , 2 , [1,2,3]  # una lista es mutable\n",
    "\n",
    "t[2].append(4)\n",
    "\n",
    "print(t)"
   ]
  },
  {
   "cell_type": "markdown",
   "metadata": {},
   "source": [
    "La sintaxis de la tupla permite lo que se llama **boxing** y **unboxing**, lo que permite definir una tupla a partir de los valores o variables independientes o definir variables a partir de los valores de una tupla.  Miremos cada caso:"
   ]
  },
  {
   "cell_type": "code",
   "execution_count": null,
   "metadata": {},
   "outputs": [],
   "source": [
    "# una operación de boxing es la definición que ya habíamos visto de la tupla\n",
    "v1 = 1\n",
    "v2 = \"DiCAGI\"\n",
    "v3 = \"tres\"\n",
    "t = v1 , v2 , v3\n",
    "\n",
    "print(t)"
   ]
  },
  {
   "cell_type": "code",
   "execution_count": null,
   "metadata": {},
   "outputs": [],
   "source": [
    "# Una operación de Unboxing permite defirnir variables a partir de los valores de una tupla\n",
    "vx , vy , vz = t\n",
    "\n",
    "print(vx)\n",
    "print(vy)\n",
    "print(vz)"
   ]
  },
  {
   "cell_type": "markdown",
   "metadata": {},
   "source": [
    "**MiniEjercicio:**:  Que pasa si no se asignan todas las variables en el unboxing?\n",
    "\n"
   ]
  },
  {
   "cell_type": "code",
   "execution_count": null,
   "metadata": {},
   "outputs": [],
   "source": [
    "# Mire que pasa si se asigna 1 , 2 , o 4 variables?"
   ]
  },
  {
   "cell_type": "markdown",
   "metadata": {},
   "source": [
    "## Conjuntos\n",
    "\n",
    "Un conjunto (_**SET**_) es un tipo de dastos, el cual es una colección de elementos **no** ordenada y sin elementos duplicados.   Su uso principal es para enconrar pertenencia en grupos o para eliminar elementos duplicados.  \n",
    "\n",
    "Los conjuntos soportan operaciones matemáticas como unión, intersección, diferencia y diferencia simétrica."
   ]
  },
  {
   "cell_type": "code",
   "execution_count": null,
   "metadata": {},
   "outputs": [],
   "source": [
    "# se pueden crear los conjuntos de dos formas.\n",
    "# las siguientes sentencias son equivalentes:\n",
    "\n",
    "s1 = {1 , 2, 3, 4 , 4 , 4 , 5}\n",
    "s2 = set([1 , 2, 3, 4 , 4 , 4 , 5])\n",
    "\n",
    "# Note que los elementos repetidos se eliminan\n",
    "print( \"s1={0}\\ns2={1}\".format(s1,s2))"
   ]
  },
  {
   "cell_type": "code",
   "execution_count": null,
   "metadata": {},
   "outputs": [],
   "source": [
    "# Se puede añadir elementos a un conjunto\n",
    "\n",
    "s1 = { 1, 2, 3}\n",
    "s1.add(2)\n",
    "s1.add(2)\n",
    "s1.add(4)\n",
    "print(s1)\n",
    "\n",
    "# y también eliminar elementos de un conjunto\n",
    "s1.discard(2)\n",
    "s1.discard(4)\n",
    "print(s1)\n"
   ]
  },
  {
   "cell_type": "markdown",
   "metadata": {},
   "source": [
    "Los conjuntos pueden tener distintos tipos, sin embargo solo permite aquellos que se puedan hashear.\n",
    "Los tipos permitidos son:\n",
    "*  Numeros (Enteros y float)\n",
    "*  Strings\n",
    "*  Tuplas\n",
    "\n",
    "Los tipos **no** permitidos son:\n",
    "*  Listas\n",
    "*  Diccionarios\n",
    "*  Otros conjuntos"
   ]
  },
  {
   "cell_type": "code",
   "execution_count": null,
   "metadata": {},
   "outputs": [],
   "source": [
    "#Los conjuntos pueden tener distintos tipos \n",
    "s1 = {1 , \"tarjeta\", 3, 4 , 4 , 4 , \"consumo\" , 25.3 , (2,3) }\n",
    "print(s1)\n",
    "\n",
    "#Aunque no pueden tener tipos no \"hasheables\"\n",
    "# La siguiente sentencia genera ERROR\n",
    "s2 = { 1 , 2 , {\"k\" : \"v\"} , [1,2,3] , {4,5,6} }"
   ]
  },
  {
   "cell_type": "code",
   "execution_count": null,
   "metadata": {},
   "outputs": [],
   "source": [
    "# Para demostrar pertenencia:\n",
    "print( 1 in s1 )\n",
    "print( 10 in s1 )"
   ]
  },
  {
   "cell_type": "code",
   "execution_count": null,
   "metadata": {},
   "outputs": [],
   "source": [
    "# Observe la diferencia de como se tratan los strings\n",
    "s1 = set(\"cadenadecaracteres\")\n",
    "s2 = {\"cadena\" , \"de\" , \"caracteres\"}\n",
    "\n",
    "print( \"s1={0}\\ns2={1}\".format(s1,s2))"
   ]
  },
  {
   "cell_type": "markdown",
   "metadata": {},
   "source": [
    "A continuación se describen las operaciones de conjuntos soportadas por los conjuntos, muy útiles para muchos casos:"
   ]
  },
  {
   "cell_type": "code",
   "execution_count": null,
   "metadata": {},
   "outputs": [],
   "source": [
    "s1 = { 1 , 2 , 4 ,2 , 5,  3 , 4 , 5 , 6 }\n",
    "s2 = { 4 , 5, 6, 7}\n",
    "print( \"s1={0}\\ns2={1}\\n\".format(s1,s2))\n",
    "print( \"Intersección (&): {0}\".format( s1 & s2 ) )\n",
    "print( \"Diferencia (-): {0}\".format( s1 - s2 ) )\n",
    "print( \"Unión (|): {0}\".format( s1 | s2 ) )\n",
    "print( \"Diferencia Simétrica (^): {0}\".format( s1 ^ s2 ) )\n"
   ]
  },
  {
   "cell_type": "code",
   "execution_count": null,
   "metadata": {},
   "outputs": [],
   "source": [
    "# también permite la creación por medio de SET comprehensions\n",
    "\n",
    "a = {x for x in 'Another useful data type built into Python is the dictionary' if x not in 'dy'}\n",
    "print(a)"
   ]
  },
  {
   "cell_type": "markdown",
   "metadata": {},
   "source": [
    "**Ejercicio**\n",
    "    \n",
    "Tome la siguiente lista de tuplas, y trate de construir un algoritmo sencillo para calcular la similaridad entre establecimientos de comercio, su similaridad está basada en la cantidad de clientes comparten.\n",
    "\n",
    "Usted cuenta con:\n",
    "* Una tupla que tiene listas de clientes y establecimientos.\n",
    "* El primer valor de la tupla es el nombre del establecimiento , el segundo es la edula del cliente\n",
    "* Esta lista representa que puede haber clientes que van a varios establecimientos.\n",
    "\n",
    "La similaridad entre establecimiento1 (e1) y establecimiento2 (e2) se mide de la siguiente manera:\n",
    "\n",
    "sim = len(e1 & e2) / len( e1 | e2 )\n",
    "\n",
    "Usted debe medir la similaridad de cada uno de los establecimientos contra los otros medidio con la cantidad de clientes que comparten (ver formula arriba).  \n",
    "\n",
    "Puede utilizar cualquier tipo de dato y ciclos para llegar a su objetivo."
   ]
  },
  {
   "cell_type": "code",
   "execution_count": null,
   "metadata": {},
   "outputs": [],
   "source": [
    "estabs_clientes =[\n",
    "    ( \"estab1\" , 1) , ( \"estab1\" , 2) , ( \"estab1\" , 3) , ( \"estab1\" , 4) , ( \"estab1\" , 5) , ( \"estab1\" , 6) \n",
    "  , ( \"estab2\" , 4) , ( \"estab2\" , 5) , ( \"estab2\" , 6) , ( \"estab2\" , 7) , ( \"estab2\" , 8) , ( \"estab2\" , 9) \n",
    "  , ( \"estab3\" , 4) , ( \"estab3\" , 5) , ( \"estab3\" , 6) , ( \"estab3\" , 1) , ( \"estab3\" , 2) , ( \"estab4\" , 1) \n",
    "  , ( \"estab4\" , 4) , ( \"estab4\" , 5)     \n",
    "]\n",
    "\n",
    "\n",
    "###  ESCRIBA AQUI SU RESPUESTA\n",
    "   \n",
    "###"
   ]
  },
  {
   "cell_type": "markdown",
   "metadata": {},
   "source": [
    "## Otras estructuras\n",
    "\n",
    "En python existen algunos tipos de datos que son iterables y tienen funciones específicas.  Uno de los que ya habíamos visto es **range**, adicionalmente podemos encontrar **enumeration.\n",
    "\n",
    "*  **Range**:  Genera una progresión aritmetica.  Esto permite iterar sobre dicho rango de números.\n",
    "*  **Enumeration**: Es una función que permite agregar índices a una lista o iterable."
   ]
  },
  {
   "cell_type": "code",
   "execution_count": null,
   "metadata": {},
   "outputs": [],
   "source": [
    "# Observe que un rango no es una lista.  es un objeto iterable\n",
    "r = range(5)\n",
    "print(r)"
   ]
  },
  {
   "cell_type": "code",
   "execution_count": null,
   "metadata": {},
   "outputs": [],
   "source": [
    "#un iterable sirve para iterar sobre el.\n",
    "for i in r:\n",
    "    print(i)"
   ]
  },
  {
   "cell_type": "code",
   "execution_count": null,
   "metadata": {},
   "outputs": [],
   "source": [
    "# Se pueden definir rangos que no empiecen de cero:\n",
    "r = range (5,10)\n",
    "print( [i for i in r] )\n",
    "\n",
    "#  Adicionalmente puede definirse un \"paso\" como tercer parámetro\n",
    "r = range(5,10,2)\n",
    "print( [i for i in r] )\n",
    "\n",
    "#  Y el paso puede ser negativo\n",
    "r = range(-5,-16,-3)\n",
    "print( [i for i in r] )"
   ]
  },
  {
   "cell_type": "code",
   "execution_count": null,
   "metadata": {},
   "outputs": [],
   "source": [
    "# antes de ejecutar piense que pasaría en los siguientes casos?\n",
    "\n",
    "print( [i for i in range (5,10,-1)] )\n",
    "print( [i for i in range (4,-13)] )\n",
    "print( [i for i in range (-1,-6)] )"
   ]
  },
  {
   "cell_type": "markdown",
   "metadata": {},
   "source": [
    "La enumeración es una facilidad que presenta el lenguaje para añadir indices a iterables"
   ]
  },
  {
   "cell_type": "code",
   "execution_count": null,
   "metadata": {},
   "outputs": [],
   "source": [
    "#definamos una función\n",
    "def fEnum(tipo , iterable):\n",
    "    print(\"tipo = \" + str(tipo))\n",
    "    for i , e in enumerate(iterable):\n",
    "        print(\"Elemento {0} tiene valor {1}\".format(i,e))\n",
    "    print()  \n",
    "    "
   ]
  },
  {
   "cell_type": "markdown",
   "metadata": {},
   "source": [
    "La función anterior permite imprimir los elementos sobre cualquier iterable que se envíe.  A continuación se muestra como actua con distintos tipos de iterables"
   ]
  },
  {
   "cell_type": "code",
   "execution_count": null,
   "metadata": {},
   "outputs": [],
   "source": [
    "e = range(-3,-8,-2)\n",
    "fEnum(type(e),e)\n",
    "\n",
    "e = ( \"a\" , \"b\" , \"c\" , \"c\")\n",
    "fEnum(type(e),e)\n",
    "\n",
    "e = [\"1\",\"2\",3,4]\n",
    "fEnum(type(e),e)\n",
    "\n",
    "e = {1 , 2, 3, 3, 3, 3 , 5}\n",
    "fEnum(type(e),e)\n",
    "\n",
    "e = { 1 : \"uno\" , \"dos\": 2 , \"3\" : 3}\n",
    "fEnum(type(e),e)\n",
    "\n",
    "e = \"The Donner Party was a group of American pioneers.\"\n",
    "fEnum(type(e),e)"
   ]
  },
  {
   "cell_type": "code",
   "execution_count": null,
   "metadata": {},
   "outputs": [],
   "source": [
    "# que pasa si no se envia un iterable?\n",
    "e = 123.4\n",
    "fEnum(type(e),e)"
   ]
  }
 ],
 "metadata": {
  "kernelspec": {
   "display_name": "Python 3",
   "language": "python",
   "name": "python3"
  },
  "language_info": {
   "codemirror_mode": {
    "name": "ipython",
    "version": 3
   },
   "file_extension": ".py",
   "mimetype": "text/x-python",
   "name": "python",
   "nbconvert_exporter": "python",
   "pygments_lexer": "ipython3",
   "version": "3.7.3"
  }
 },
 "nbformat": 4,
 "nbformat_minor": 2
}
